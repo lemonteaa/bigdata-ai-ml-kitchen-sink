{
 "cells": [
  {
   "cell_type": "code",
   "execution_count": 1,
   "id": "54d9ada2",
   "metadata": {},
   "outputs": [],
   "source": [
    "import array as arr\n",
    "arr_x = arr.array(\"d\", [98.6, 22.35, 72.1])"
   ]
  },
  {
   "cell_type": "code",
   "execution_count": 3,
   "id": "2450a93d",
   "metadata": {},
   "outputs": [
    {
     "data": {
      "text/plain": [
       "22.35"
      ]
     },
     "execution_count": 3,
     "metadata": {},
     "output_type": "execute_result"
    }
   ],
   "source": [
    "arr_x[1]"
   ]
  },
  {
   "cell_type": "code",
   "execution_count": 4,
   "id": "0d4b3301",
   "metadata": {},
   "outputs": [],
   "source": [
    "import numpy as np"
   ]
  },
  {
   "cell_type": "code",
   "execution_count": 5,
   "id": "f535ce12",
   "metadata": {},
   "outputs": [
    {
     "data": {
      "text/plain": [
       "array([1, 2, 3, 4])"
      ]
     },
     "execution_count": 5,
     "metadata": {},
     "output_type": "execute_result"
    }
   ],
   "source": [
    "array1d = np.array([1, 2, 3, 4])\n",
    "array1d"
   ]
  },
  {
   "cell_type": "code",
   "execution_count": 6,
   "id": "dcaadfbd",
   "metadata": {},
   "outputs": [
    {
     "data": {
      "text/plain": [
       "array([[0, 1, 2],\n",
       "       [2, 3, 4]])"
      ]
     },
     "execution_count": 6,
     "metadata": {},
     "output_type": "execute_result"
    }
   ],
   "source": [
    "array2d = np.array([[0, 1, 2],[2, 3, 4]])\n",
    "array2d"
   ]
  },
  {
   "cell_type": "code",
   "execution_count": 7,
   "id": "126b3743",
   "metadata": {},
   "outputs": [
    {
     "data": {
      "text/plain": [
       "array([[[1., 1., 1., 1.],\n",
       "        [1., 1., 1., 1.],\n",
       "        [1., 1., 1., 1.]],\n",
       "\n",
       "       [[1., 1., 1., 1.],\n",
       "        [1., 1., 1., 1.],\n",
       "        [1., 1., 1., 1.]]])"
      ]
     },
     "execution_count": 7,
     "metadata": {},
     "output_type": "execute_result"
    }
   ],
   "source": [
    "np.ones((2, 3, 4))"
   ]
  },
  {
   "cell_type": "code",
   "execution_count": 8,
   "id": "e9a4a995",
   "metadata": {},
   "outputs": [
    {
     "data": {
      "text/plain": [
       "array([[0., 0., 0.],\n",
       "       [0., 0., 0.],\n",
       "       [1., 0., 0.],\n",
       "       [0., 1., 0.]])"
      ]
     },
     "execution_count": 8,
     "metadata": {},
     "output_type": "execute_result"
    }
   ],
   "source": [
    "np.eye(N = 4, M = 3, k = -2)"
   ]
  },
  {
   "cell_type": "code",
   "execution_count": 9,
   "id": "be9e3ddf",
   "metadata": {},
   "outputs": [
    {
     "data": {
      "text/plain": [
       "array([ 2,  5,  8, 11])"
      ]
     },
     "execution_count": 9,
     "metadata": {},
     "output_type": "execute_result"
    }
   ],
   "source": [
    "# Creating an array with numbers from 2 to 12 spaced out at intervals of 3\n",
    "np.arange(2, 13, 3)"
   ]
  },
  {
   "cell_type": "code",
   "execution_count": 10,
   "id": "10d2ba8b",
   "metadata": {},
   "outputs": [
    {
     "data": {
      "text/plain": [
       "array([ 5.        ,  5.26315789,  5.52631579,  5.78947368,  6.05263158,\n",
       "        6.31578947,  6.57894737,  6.84210526,  7.10526316,  7.36842105,\n",
       "        7.63157895,  7.89473684,  8.15789474,  8.42105263,  8.68421053,\n",
       "        8.94736842,  9.21052632,  9.47368421,  9.73684211, 10.        ])"
      ]
     },
     "execution_count": 10,
     "metadata": {},
     "output_type": "execute_result"
    }
   ],
   "source": [
    "np.linspace(start = 5, stop = 10, num = 20)"
   ]
  },
  {
   "cell_type": "code",
   "execution_count": 11,
   "id": "22912fa1",
   "metadata": {},
   "outputs": [
    {
     "data": {
      "text/plain": [
       "array([[0.27346627, 0.1827647 , 0.39269909, 0.27003355],\n",
       "       [0.57492884, 0.80932365, 0.39724582, 0.05920101]])"
      ]
     },
     "execution_count": 11,
     "metadata": {},
     "output_type": "execute_result"
    }
   ],
   "source": [
    "np.random.rand(2, 4)"
   ]
  },
  {
   "cell_type": "code",
   "execution_count": 16,
   "id": "a7e6ab5b",
   "metadata": {},
   "outputs": [],
   "source": [
    "patient = np.array([[[100, 65, 160],\n",
    "[150, 82, 200],\n",
    "[ 90, 55, 80],\n",
    "[130, 73, 220],\n",
    "[190, 80, 150]],\n",
    "[[ 95, 68, 140],\n",
    "[145, 80, 222],\n",
    "[ 90, 62, 100],\n",
    "[150, 92, 200],\n",
    "[140, 60, 90]],\n",
    "[[110, 72, 160],\n",
    "[160, 95, 185],\n",
    "[100, 80, 110],\n",
    "[140, 92, 120],\n",
    "[100, 55, 100]],\n",
    "[[110, 72, 160],\n",
    "[160, 95, 185],\n",
    "[100, 80, 110],\n",
    "[140, 92, 120],\n",
    "[100, 55, 100]]])"
   ]
  },
  {
   "cell_type": "code",
   "execution_count": 17,
   "id": "e5865ade",
   "metadata": {},
   "outputs": [
    {
     "name": "stdout",
     "output_type": "stream",
     "text": [
      "dtype: int64 \n",
      "shape: (4, 5, 3) \n",
      "ndim: 3 \n",
      "size: 60\n"
     ]
    }
   ],
   "source": [
    "print(f\"dtype: {patient.dtype} \\nshape: {patient.shape} \\nndim: {patient.ndim} \\nsize: {patient.size}\")"
   ]
  },
  {
   "cell_type": "code",
   "execution_count": 18,
   "id": "6b208d18",
   "metadata": {},
   "outputs": [
    {
     "data": {
      "text/plain": [
       "90"
      ]
     },
     "execution_count": 18,
     "metadata": {},
     "output_type": "execute_result"
    }
   ],
   "source": [
    "patient[1][2][0]"
   ]
  },
  {
   "cell_type": "code",
   "execution_count": 19,
   "id": "cd377c07",
   "metadata": {},
   "outputs": [
    {
     "name": "stdout",
     "output_type": "stream",
     "text": [
      "itemsize: 8 \n",
      "nbytes: 480 \n",
      "strides: (120, 24, 8)\n"
     ]
    }
   ],
   "source": [
    "print(f\"itemsize: {patient.itemsize} \\nnbytes: {patient.nbytes} \\nstrides: {patient.strides}\")"
   ]
  },
  {
   "cell_type": "markdown",
   "id": "013b3d92",
   "metadata": {},
   "source": [
    "## Try some Linear Algebra"
   ]
  },
  {
   "cell_type": "code",
   "execution_count": 20,
   "id": "c1bda592",
   "metadata": {},
   "outputs": [],
   "source": [
    "m1 = np.random.randn(5, 5)\n",
    "m1_e = np.linalg.eig(m1)"
   ]
  },
  {
   "cell_type": "code",
   "execution_count": 22,
   "id": "f7b65e4f",
   "metadata": {},
   "outputs": [],
   "source": [
    "def print_detail(x):\n",
    "    print(f\"dtype: {x.dtype} \\nshape: {x.shape} \\nndim: {x.ndim} \\nsize: {x.size}\")"
   ]
  },
  {
   "cell_type": "code",
   "execution_count": 27,
   "id": "097058d1",
   "metadata": {},
   "outputs": [
    {
     "name": "stdout",
     "output_type": "stream",
     "text": [
      "dtype: complex128 \n",
      "shape: (5, 5) \n",
      "ndim: 2 \n",
      "size: 25\n"
     ]
    }
   ],
   "source": [
    "print_detail(m1_e[1])"
   ]
  },
  {
   "cell_type": "code",
   "execution_count": 26,
   "id": "aa7b1836",
   "metadata": {},
   "outputs": [
    {
     "name": "stdout",
     "output_type": "stream",
     "text": [
      "[[-0.447+0.j    -0.004+0.272j -0.004-0.272j  0.328+0.067j  0.328-0.067j]\n",
      " [ 0.136+0.j    -0.111+0.414j -0.111-0.414j  0.275+0.244j  0.275-0.244j]\n",
      " [ 0.056+0.j     0.011+0.43j   0.011-0.43j   0.3  -0.306j  0.3  +0.306j]\n",
      " [-0.404+0.j    -0.36 -0.366j -0.36 +0.366j  0.616+0.j     0.616-0.j   ]\n",
      " [ 0.785+0.j     0.543+0.j     0.543-0.j     0.385-0.202j  0.385+0.202j]]\n"
     ]
    }
   ],
   "source": [
    "with np.printoptions(precision=3, suppress=True):\n",
    "    print(m1_e[1])"
   ]
  },
  {
   "cell_type": "code",
   "execution_count": 28,
   "id": "1f91d81f",
   "metadata": {},
   "outputs": [],
   "source": [
    "a = np.array([[1, 2, 3], [5, 4, 2], [8, 9, 7]])\n",
    "b = np.array([6, 19, 47])\n",
    "res = np.linalg.solve(a, b)"
   ]
  },
  {
   "cell_type": "code",
   "execution_count": 29,
   "id": "d5391cfa",
   "metadata": {},
   "outputs": [
    {
     "data": {
      "text/plain": [
       "array([-6.27272727, 15.81818182, -6.45454545])"
      ]
     },
     "execution_count": 29,
     "metadata": {},
     "output_type": "execute_result"
    }
   ],
   "source": [
    "res"
   ]
  }
 ],
 "metadata": {
  "kernelspec": {
   "display_name": "Python 3",
   "language": "python",
   "name": "python3"
  },
  "language_info": {
   "codemirror_mode": {
    "name": "ipython",
    "version": 3
   },
   "file_extension": ".py",
   "mimetype": "text/x-python",
   "name": "python",
   "nbconvert_exporter": "python",
   "pygments_lexer": "ipython3",
   "version": "3.7.4"
  }
 },
 "nbformat": 4,
 "nbformat_minor": 5
}
