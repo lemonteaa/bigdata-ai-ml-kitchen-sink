{
 "cells": [
  {
   "cell_type": "markdown",
   "id": "0fa17b23",
   "metadata": {},
   "source": [
    "# Panda Data Type\n",
    "\n",
    "The pandas package was created by Wes McKinney in 2008 as a result of frustrations he encountered while working on time series data in R. It is built on top of NumPy and provides features not available in it. It provides fast, easy-to-understand data structures and helps fill the gap between Python and a language like R. NumPy deals with homogeneous blocks of data. Using pandas helps to deal with data in a tabular structure composed of different data types.\n",
    "\n",
    "There are three main data structures in pandas:\n",
    "- Series—1D\n",
    "- DataFrame—2D\n",
    "- Panel—3D"
   ]
  },
  {
   "cell_type": "markdown",
   "id": "16650da9",
   "metadata": {},
   "source": [
    "# Series\n",
    "\n",
    "A Series is really a 1D NumPy array under the hood. It consists of a NumPy array coupled with an array of labels. Just like a NumPy array, a series can be wholly composed of any data type. The labels are together called the index of the series. A series consists of two components—1D data and the index.\n"
   ]
  },
  {
   "cell_type": "code",
   "execution_count": 8,
   "id": "7d11e107",
   "metadata": {},
   "outputs": [],
   "source": [
    "# General Syntax Eg\n",
    "import pandas as pd\n",
    "import numpy as np\n",
    "\n",
    "data = np.array([1.0, 3.5, -2.1, 6.2, 0.4])\n",
    "idx = [\"New York\", \"Cleveland\", \"San Francisco\", \"Neveda\", \"Texas\"]\n",
    "\n",
    "ser = pd.Series(data, index = idx)"
   ]
  },
  {
   "cell_type": "code",
   "execution_count": 9,
   "id": "17978311",
   "metadata": {},
   "outputs": [
    {
     "data": {
      "text/plain": [
       "New York         1.0\n",
       "Cleveland        3.5\n",
       "San Francisco   -2.1\n",
       "Neveda           6.2\n",
       "Texas            0.4\n",
       "dtype: float64"
      ]
     },
     "execution_count": 9,
     "metadata": {},
     "output_type": "execute_result"
    }
   ],
   "source": [
    "ser"
   ]
  },
  {
   "cell_type": "code",
   "execution_count": 10,
   "id": "731d78b5",
   "metadata": {},
   "outputs": [
    {
     "data": {
      "text/plain": [
       "<AxesSubplot:>"
      ]
     },
     "execution_count": 10,
     "metadata": {},
     "output_type": "execute_result"
    },
    {
     "data": {
      "image/png": "[encoded data removed]",
      "text/plain": [
       "<Figure size 432x288 with 1 Axes>"
      ]
     },
     "metadata": {
      "needs_background": "light"
     },
     "output_type": "display_data"
    }
   ],
   "source": [
    "# Panda's builtin visualization\n",
    "ser.plot.bar()"
   ]
  },
  {
   "cell_type": "code",
   "execution_count": 5,
   "id": "da515372",
   "metadata": {},
   "outputs": [
    {
     "data": {
      "image/png": "[encoded data removed]",
      "text/plain": [
       "<Figure size 432x288 with 1 Axes>"
      ]
     },
     "metadata": {
      "needs_background": "light"
     },
     "output_type": "display_data"
    }
   ],
   "source": [
    "df = pd.DataFrame({\n",
    "   'pig': [20, 18, 489, 675, 1776],\n",
    "   'horse': [4, 25, 281, 600, 1900]\n",
    "   }, index=[1990, 1997, 2003, 2009, 2014])\n",
    "lines = df.plot.line()"
   ]
  },
  {
   "cell_type": "markdown",
   "id": "33b77a05",
   "metadata": {},
   "source": [
    "Here, data can be one of the following:\n",
    "- An ndarray\n",
    "- A Python dictionary\n",
    "- A scalar value\n",
    "\n",
    "If an index is not specified, the following default index `[0,... n-1]` will be created, where n is the length of the data.\n",
    "\n",
    "A series can be created from a variety of sources as shown in the following subsections.\n"
   ]
  },
  {
   "cell_type": "code",
   "execution_count": 11,
   "id": "677e5ae7",
   "metadata": {},
   "outputs": [
    {
     "data": {
      "text/plain": [
       "January     1\n",
       "February    2\n",
       "March       3\n",
       "April       4\n",
       "May         5\n",
       "dtype: int64"
      ]
     },
     "execution_count": 11,
     "metadata": {},
     "output_type": "execute_result"
    }
   ],
   "source": [
    "import calendar as cal\n",
    "\n",
    "monthNames=[cal.month_name[i] for i in np.arange(1,6)]\n",
    "\n",
    "months = pd.Series(np.arange(1,6), index = monthNames)\n",
    "\n",
    "months"
   ]
  },
  {
   "cell_type": "code",
   "execution_count": 12,
   "id": "eeff1c7d",
   "metadata": {},
   "outputs": [
    {
     "data": {
      "text/plain": [
       "Index(['January', 'February', 'March', 'April', 'May'], dtype='object')"
      ]
     },
     "execution_count": 12,
     "metadata": {},
     "output_type": "execute_result"
    }
   ],
   "source": [
    "months.index"
   ]
  },
  {
   "cell_type": "code",
   "execution_count": 13,
   "id": "fc81193a",
   "metadata": {},
   "outputs": [
    {
     "data": {
      "text/plain": [
       "US         dollar\n",
       "UK          pound\n",
       "Germany      euro\n",
       "Mexico       peso\n",
       "Nigeria     naira\n",
       "China        yuan\n",
       "Japan         yen\n",
       "dtype: object"
      ]
     },
     "execution_count": 13,
     "metadata": {},
     "output_type": "execute_result"
    }
   ],
   "source": [
    "currDict={'US' : 'dollar', 'UK' : 'pound', 'Germany': 'euro', 'Mexico':'peso', 'Nigeria':'naira', 'China':'yuan', 'Japan':'yen'}\n",
    "currSeries = pd.Series(currDict)\n",
    "currSeries"
   ]
  },
  {
   "cell_type": "markdown",
   "id": "90c71037",
   "metadata": {},
   "source": [
    "# DataFrame\n",
    "\n",
    "A DataFrame is a two-dimensional data structure composed of rows and columns—exactly like a simple spreadsheet or a SQL table. Each column of a DataFrame is a pandas Series. These columns should be of the same length, but they can be of different data types—float, int, bool, and so on. DataFrames are both value-mutable and size-mutable. This lets us perform operations that would alter values held within the DataFrame or add/delete columns to/from the DataFrame.\n",
    "\n",
    "Similar to a Series, which has a name and index as attributes, a DataFrame has column names and a row index. The row index can be made of either numerical values or strings such as month names. Indexes are needed for fast lookups as well as proper aligning and joining of data in pandas multilevel indexing is also possible in DataFrames. The following is a simple view of a DataFrame with five rows and three columns. In general, the index is not counted as a column:\n",
    "    "
   ]
  },
  {
   "cell_type": "markdown",
   "id": "5101dddf",
   "metadata": {},
   "source": [
    "A DataFrame is the most commonly used data structure in pandas. The constructor accepts many different types of arguments:\n",
    "\n",
    "- Dictionary of 1D ndarrays, lists, dictionaries, or Series structures\n",
    "- 2D NumPy array\n",
    "- Structured or record ndarray\n",
    "- Series\n",
    "- Another DataFrame\n",
    "\n",
    "Row label indexes and column labels can be specified along with the data. If they're not specified, they will be generated from the input data in an intuitive fashion, for example, from the keys of dict (in the case of column labels) or by using np.range(n) in the case of row labels, where n corresponds to the number of rows.\n",
    "\n",
    "A DataFrame can be created from a variety of sources as discussed in the following subsections."
   ]
  },
  {
   "cell_type": "code",
   "execution_count": 14,
   "id": "b6e27fcf",
   "metadata": {},
   "outputs": [],
   "source": [
    "# Classic eg of data frame\n",
    "\n",
    "stockSummaries = {\n",
    "'AMZN': pd.Series([346.15,0.59,459,0.52,589.8,158.88],\n",
    "index=['Closing price','EPS',\n",
    "'Shares Outstanding(M)',\n",
    "'Beta', 'P/E','Market Cap(B)']),\n",
    "'GOOG': pd.Series([1133.43,36.05,335.83,0.87,31.44,380.64],\n",
    "index=['Closing price','EPS','Shares Outstanding(M)',\n",
    "'Beta','P/E','Market Cap(B)']),\n",
    "'FB': pd.Series([61.48,0.59,2450,104.93,150.92],\n",
    "index=['Closing price','EPS','Shares Outstanding(M)',\n",
    "'P/E', 'Market Cap(B)']),\n",
    "'YHOO': pd.Series([34.90,1.27,1010,27.48,0.66,35.36],\n",
    "index=['Closing price','EPS','Shares Outstanding(M)',\n",
    "'P/E','Beta', 'Market Cap(B)']),\n",
    "'TWTR':pd.Series([65.25,-0.3,555.2,36.23],\n",
    "index=['Closing price','EPS','Shares Outstanding(M)',\n",
    "'Market Cap(B)']),\n",
    "'AAPL':pd.Series([501.53,40.32,892.45,12.44,447.59,0.84],\n",
    "index=['Closing price','EPS','Shares Outstanding(M)','P/E',\n",
    "'Market Cap(B)','Beta'])}\n"
   ]
  },
  {
   "cell_type": "code",
   "execution_count": 15,
   "id": "79b2fd8a",
   "metadata": {},
   "outputs": [],
   "source": [
    "stockDF = pd.DataFrame(stockSummaries)"
   ]
  },
  {
   "cell_type": "code",
   "execution_count": 18,
   "id": "496f88a7",
   "metadata": {},
   "outputs": [
    {
     "data": {
      "text/html": [
       "<div>\n",
       "<style scoped>\n",
       "    .dataframe tbody tr th:only-of-type {\n",
       "        vertical-align: middle;\n",
       "    }\n",
       "\n",
       "    .dataframe tbody tr th {\n",
       "        vertical-align: top;\n",
       "    }\n",
       "\n",
       "    .dataframe thead th {\n",
       "        text-align: right;\n",
       "    }\n",
       "</style>\n",
       "<table border=\"1\" class=\"dataframe\">\n",
       "  <thead>\n",
       "    <tr style=\"text-align: right;\">\n",
       "      <th></th>\n",
       "      <th>FB</th>\n",
       "      <th>TWTR</th>\n",
       "      <th>SCNW</th>\n",
       "    </tr>\n",
       "  </thead>\n",
       "  <tbody>\n",
       "    <tr>\n",
       "      <th>Closing price</th>\n",
       "      <td>61.48</td>\n",
       "      <td>65.25</td>\n",
       "      <td>NaN</td>\n",
       "    </tr>\n",
       "    <tr>\n",
       "      <th>EPS</th>\n",
       "      <td>0.59</td>\n",
       "      <td>-0.30</td>\n",
       "      <td>NaN</td>\n",
       "    </tr>\n",
       "    <tr>\n",
       "      <th>Shares Outstanding(M)</th>\n",
       "      <td>2450.00</td>\n",
       "      <td>555.20</td>\n",
       "      <td>NaN</td>\n",
       "    </tr>\n",
       "    <tr>\n",
       "      <th>P/E</th>\n",
       "      <td>104.93</td>\n",
       "      <td>NaN</td>\n",
       "      <td>NaN</td>\n",
       "    </tr>\n",
       "    <tr>\n",
       "      <th>Market Cap(B)</th>\n",
       "      <td>150.92</td>\n",
       "      <td>36.23</td>\n",
       "      <td>NaN</td>\n",
       "    </tr>\n",
       "    <tr>\n",
       "      <th>Beta</th>\n",
       "      <td>NaN</td>\n",
       "      <td>NaN</td>\n",
       "      <td>NaN</td>\n",
       "    </tr>\n",
       "  </tbody>\n",
       "</table>\n",
       "</div>"
      ],
      "text/plain": [
       "                            FB    TWTR SCNW\n",
       "Closing price            61.48   65.25  NaN\n",
       "EPS                       0.59   -0.30  NaN\n",
       "Shares Outstanding(M)  2450.00  555.20  NaN\n",
       "P/E                     104.93     NaN  NaN\n",
       "Market Cap(B)           150.92   36.23  NaN\n",
       "Beta                       NaN     NaN  NaN"
      ]
     },
     "execution_count": 18,
     "metadata": {},
     "output_type": "execute_result"
    }
   ],
   "source": [
    "stockDF"
   ]
  },
  {
   "cell_type": "code",
   "execution_count": 17,
   "id": "8591ed47",
   "metadata": {},
   "outputs": [],
   "source": [
    "stockDF = pd.DataFrame(stockSummaries,\n",
    "index=['Closing price','EPS',\n",
    "'Shares Outstanding(M)',\n",
    "'P/E', 'Market Cap(B)','Beta'],\n",
    "columns=['FB','TWTR','SCNW'])"
   ]
  },
  {
   "cell_type": "code",
   "execution_count": 19,
   "id": "57ed89d3",
   "metadata": {},
   "outputs": [
    {
     "name": "stdout",
     "output_type": "stream",
     "text": [
      "index: Index(['Closing price', 'EPS', 'Shares Outstanding(M)', 'P/E', 'Market Cap(B)',\n",
      "       'Beta'],\n",
      "      dtype='object') \n",
      "columns: Index(['FB', 'TWTR', 'SCNW'], dtype='object')\n"
     ]
    }
   ],
   "source": [
    "print(f\"index: {stockDF.index} \\ncolumns: {stockDF.columns}\")"
   ]
  },
  {
   "cell_type": "markdown",
   "id": "e8aa359b",
   "metadata": {},
   "source": [
    "## Notes on Structured Array\n",
    "\n",
    "Structured arrays are slightly different from ndarrays. Each field in a structured array can be of a different data type. For more information on structured arrays, refer to the following: http://docs.scipy.org/doc/numpy/user/basics.rec.html.\n",
    "\n",
    "The following is an example of a structured array:\n"
   ]
  },
  {
   "cell_type": "code",
   "execution_count": 20,
   "id": "eb37c51a",
   "metadata": {},
   "outputs": [],
   "source": [
    "memberData = np.array([('Sanjeev',37,162.4),\n",
    "('Yingluck',45,137.8),\n",
    "('Emeka',28,153.2),\n",
    "('Amy',67,101.3)],\n",
    "dtype = [('Name','a15'),\n",
    "('Age','i4'),\n",
    "('Weight','f4')])"
   ]
  },
  {
   "cell_type": "code",
   "execution_count": 21,
   "id": "d9c0dcf7",
   "metadata": {},
   "outputs": [],
   "source": [
    "memberDF = pd.DataFrame(memberData)"
   ]
  },
  {
   "cell_type": "code",
   "execution_count": 22,
   "id": "cf1b9d70",
   "metadata": {},
   "outputs": [
    {
     "data": {
      "text/html": [
       "<div>\n",
       "<style scoped>\n",
       "    .dataframe tbody tr th:only-of-type {\n",
       "        vertical-align: middle;\n",
       "    }\n",
       "\n",
       "    .dataframe tbody tr th {\n",
       "        vertical-align: top;\n",
       "    }\n",
       "\n",
       "    .dataframe thead th {\n",
       "        text-align: right;\n",
       "    }\n",
       "</style>\n",
       "<table border=\"1\" class=\"dataframe\">\n",
       "  <thead>\n",
       "    <tr style=\"text-align: right;\">\n",
       "      <th></th>\n",
       "      <th>Name</th>\n",
       "      <th>Age</th>\n",
       "      <th>Weight</th>\n",
       "    </tr>\n",
       "  </thead>\n",
       "  <tbody>\n",
       "    <tr>\n",
       "      <th>0</th>\n",
       "      <td>b'Sanjeev'</td>\n",
       "      <td>37</td>\n",
       "      <td>162.399994</td>\n",
       "    </tr>\n",
       "    <tr>\n",
       "      <th>1</th>\n",
       "      <td>b'Yingluck'</td>\n",
       "      <td>45</td>\n",
       "      <td>137.800003</td>\n",
       "    </tr>\n",
       "    <tr>\n",
       "      <th>2</th>\n",
       "      <td>b'Emeka'</td>\n",
       "      <td>28</td>\n",
       "      <td>153.199997</td>\n",
       "    </tr>\n",
       "    <tr>\n",
       "      <th>3</th>\n",
       "      <td>b'Amy'</td>\n",
       "      <td>67</td>\n",
       "      <td>101.300003</td>\n",
       "    </tr>\n",
       "  </tbody>\n",
       "</table>\n",
       "</div>"
      ],
      "text/plain": [
       "          Name  Age      Weight\n",
       "0   b'Sanjeev'   37  162.399994\n",
       "1  b'Yingluck'   45  137.800003\n",
       "2     b'Emeka'   28  153.199997\n",
       "3       b'Amy'   67  101.300003"
      ]
     },
     "execution_count": 22,
     "metadata": {},
     "output_type": "execute_result"
    }
   ],
   "source": [
    "memberDF"
   ]
  },
  {
   "cell_type": "code",
   "execution_count": 24,
   "id": "7b3ff300",
   "metadata": {},
   "outputs": [
    {
     "data": {
      "text/plain": [
       "dtype([('Name', 'S15'), ('Age', '<i4'), ('Weight', '<f4')])"
      ]
     },
     "execution_count": 24,
     "metadata": {},
     "output_type": "execute_result"
    }
   ],
   "source": [
    "memberData.dtype"
   ]
  },
  {
   "cell_type": "code",
   "execution_count": 25,
   "id": "d4298d29",
   "metadata": {},
   "outputs": [
    {
     "data": {
      "text/plain": [
       "numpy.ndarray"
      ]
     },
     "execution_count": 25,
     "metadata": {},
     "output_type": "execute_result"
    }
   ],
   "source": [
    "type(memberData)"
   ]
  },
  {
   "cell_type": "code",
   "execution_count": 26,
   "id": "8cf91d8a",
   "metadata": {},
   "outputs": [
    {
     "data": {
      "text/html": [
       "<div>\n",
       "<style scoped>\n",
       "    .dataframe tbody tr th:only-of-type {\n",
       "        vertical-align: middle;\n",
       "    }\n",
       "\n",
       "    .dataframe tbody tr th {\n",
       "        vertical-align: top;\n",
       "    }\n",
       "\n",
       "    .dataframe thead tr th {\n",
       "        text-align: left;\n",
       "    }\n",
       "</style>\n",
       "<table border=\"1\" class=\"dataframe\">\n",
       "  <thead>\n",
       "    <tr>\n",
       "      <th></th>\n",
       "      <th></th>\n",
       "      <th colspan=\"2\" halign=\"left\">2012</th>\n",
       "      <th colspan=\"2\" halign=\"left\">2013</th>\n",
       "    </tr>\n",
       "    <tr>\n",
       "      <th></th>\n",
       "      <th></th>\n",
       "      <th>Q1</th>\n",
       "      <th>Q2</th>\n",
       "      <th>Q1</th>\n",
       "      <th>Q2</th>\n",
       "    </tr>\n",
       "  </thead>\n",
       "  <tbody>\n",
       "    <tr>\n",
       "      <th rowspan=\"2\" valign=\"top\">North</th>\n",
       "      <th>Brand A</th>\n",
       "      <td>100</td>\n",
       "      <td>30.0</td>\n",
       "      <td>80.0</td>\n",
       "      <td>70</td>\n",
       "    </tr>\n",
       "    <tr>\n",
       "      <th>Brand B</th>\n",
       "      <td>80</td>\n",
       "      <td>NaN</td>\n",
       "      <td>10.0</td>\n",
       "      <td>50</td>\n",
       "    </tr>\n",
       "    <tr>\n",
       "      <th rowspan=\"2\" valign=\"top\">South</th>\n",
       "      <th>Brand A</th>\n",
       "      <td>25</td>\n",
       "      <td>NaN</td>\n",
       "      <td>NaN</td>\n",
       "      <td>35</td>\n",
       "    </tr>\n",
       "    <tr>\n",
       "      <th>Brand B</th>\n",
       "      <td>40</td>\n",
       "      <td>50.0</td>\n",
       "      <td>25.0</td>\n",
       "      <td>40</td>\n",
       "    </tr>\n",
       "  </tbody>\n",
       "</table>\n",
       "</div>"
      ],
      "text/plain": [
       "              2012        2013    \n",
       "                Q1    Q2    Q1  Q2\n",
       "North Brand A  100  30.0  80.0  70\n",
       "      Brand B   80   NaN  10.0  50\n",
       "South Brand A   25   NaN   NaN  35\n",
       "      Brand B   40  50.0  25.0  40"
      ]
     },
     "execution_count": 26,
     "metadata": {},
     "output_type": "execute_result"
    }
   ],
   "source": [
    "# Multilevel eg\n",
    "salesData = {(\"2012\", \"Q1\"): {(\"North\", \"Brand A\"): 100, (\"North\", \"Brand B\"): 80, (\"South\", \"Brand A\"): 25, (\"South\", \"Brand B\"): 40},\n",
    "(\"2012\", \"Q2\"): {(\"North\", \"Brand A\"): 30, (\"South\", \"Brand B\"): 50},\n",
    "(\"2013\", \"Q1\"): {(\"North\", \"Brand A\"): 80, (\"North\", \"Brand B\"): 10, (\"South\", \"Brand B\"): 25},\n",
    "(\"2013\", \"Q2\"): {(\"North\", \"Brand A\"): 70, (\"North\", \"Brand B\"): 50, (\"South\", \"Brand A\"): 35, (\"South\", \"Brand B\"): 40}}\n",
    "\n",
    "salesDF = pd.DataFrame(salesData)\n",
    "salesDF"
   ]
  },
  {
   "cell_type": "markdown",
   "id": "c99a5bc4",
   "metadata": {},
   "source": [
    "# Panels\n",
    "A Panel is a 3D array. It is not as widely used as Series or DataFrames. It is not as easily displayed on screen or visualized as the other two because of its 3D nature. The Panel data structure is the final piece of the data structure puzzle in pandas. It is less widely used. It is generally used for 3D time-series data. The three axis names are as follows:\n",
    "\n",
    "- items: This is axis 0. Each item corresponds to a DataFrame structure.\n",
    "- major_axis: This is axis 1. Each item corresponds to the rows of the DataFrame structure.\n",
    "- minor_axis: This is axis 2. Each item corresponds to the columns of each DataFrame structure.\n",
    "\n",
    "Panels are deprecated and will not be available in future versions. Hence, it's advisable to use multi-indexing in DataFrames instead of Panels.\n",
    "\n",
    "As with Series and DataFrames, there are different ways to create Panel objects. They are explained in the upcoming sections."
   ]
  }
 ],
 "metadata": {
  "kernelspec": {
   "display_name": "Python 3",
   "language": "python",
   "name": "python3"
  },
  "language_info": {
   "codemirror_mode": {
    "name": "ipython",
    "version": 3
   },
   "file_extension": ".py",
   "mimetype": "text/x-python",
   "name": "python",
   "nbconvert_exporter": "python",
   "pygments_lexer": "ipython3",
   "version": "3.7.4"
  }
 },
 "nbformat": 4,
 "nbformat_minor": 5
}
