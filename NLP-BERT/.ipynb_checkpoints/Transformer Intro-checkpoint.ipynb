{
 "cells": [
  {
   "cell_type": "code",
   "execution_count": 1,
   "id": "926b2e9b",
   "metadata": {},
   "outputs": [
    {
     "name": "stdout",
     "output_type": "stream",
     "text": [
      "Collecting transformers\n",
      "  Downloading transformers-4.19.4-py3-none-any.whl (4.2 MB)\n",
      "\u001b[K     |████████████████████████████████| 4.2 MB 25.4 MB/s eta 0:00:01\n",
      "\u001b[?25hCollecting huggingface-hub<1.0,>=0.1.0\n",
      "  Downloading huggingface_hub-0.7.0-py3-none-any.whl (86 kB)\n",
      "\u001b[K     |████████████████████████████████| 86 kB 7.5 MB/s  eta 0:00:01\n",
      "\u001b[?25hCollecting tokenizers!=0.11.3,<0.13,>=0.11.1\n",
      "  Downloading tokenizers-0.12.1-cp38-cp38-manylinux_2_12_x86_64.manylinux2010_x86_64.whl (6.6 MB)\n",
      "\u001b[K     |████████████████████████████████| 6.6 MB 28.9 MB/s eta 0:00:01\n",
      "\u001b[?25hRequirement already satisfied: requests in /opt/conda/lib/python3.8/site-packages (from transformers) (2.26.0)\n",
      "Requirement already satisfied: tqdm>=4.27 in /opt/conda/lib/python3.8/site-packages (from transformers) (4.62.3)\n",
      "Requirement already satisfied: packaging>=20.0 in /opt/conda/lib/python3.8/site-packages (from transformers) (21.0)\n",
      "Requirement already satisfied: pyyaml>=5.1 in /opt/conda/lib/python3.8/site-packages (from transformers) (5.4.1)\n",
      "Requirement already satisfied: numpy>=1.17 in /opt/conda/lib/python3.8/site-packages (from transformers) (1.19.5)\n",
      "Collecting regex!=2019.12.17\n",
      "  Downloading regex-2022.6.2-cp38-cp38-manylinux_2_17_x86_64.manylinux2014_x86_64.whl (764 kB)\n",
      "\u001b[K     |████████████████████████████████| 764 kB 50.3 MB/s eta 0:00:01\n",
      "\u001b[?25hRequirement already satisfied: filelock in /opt/conda/lib/python3.8/site-packages (from transformers) (0.0.0)\n",
      "Requirement already satisfied: typing-extensions>=3.7.4.3 in /opt/conda/lib/python3.8/site-packages (from huggingface-hub<1.0,>=0.1.0->transformers) (3.7.4.3)\n",
      "Requirement already satisfied: pyparsing>=2.0.2 in /opt/conda/lib/python3.8/site-packages (from packaging>=20.0->transformers) (2.4.7)\n",
      "Requirement already satisfied: urllib3<1.27,>=1.21.1 in /opt/conda/lib/python3.8/site-packages (from requests->transformers) (1.26.7)\n",
      "Requirement already satisfied: certifi>=2017.4.17 in /opt/conda/lib/python3.8/site-packages (from requests->transformers) (2021.5.30)\n",
      "Requirement already satisfied: idna<4,>=2.5 in /opt/conda/lib/python3.8/site-packages (from requests->transformers) (3.1)\n",
      "Requirement already satisfied: charset-normalizer~=2.0.0 in /opt/conda/lib/python3.8/site-packages (from requests->transformers) (2.0.0)\n",
      "Installing collected packages: tokenizers, regex, huggingface-hub, transformers\n",
      "Successfully installed huggingface-hub-0.7.0 regex-2022.6.2 tokenizers-0.12.1 transformers-4.19.4\n",
      "\u001b[33mWARNING: Running pip as the 'root' user can result in broken permissions and conflicting behaviour with the system package manager. It is recommended to use a virtual environment instead: https://pip.pypa.io/warnings/venv\u001b[0m\n"
     ]
    }
   ],
   "source": [
    "!pip install transformers"
   ]
  },
  {
   "cell_type": "code",
   "execution_count": 2,
   "id": "673d0ed2",
   "metadata": {},
   "outputs": [
    {
     "name": "stderr",
     "output_type": "stream",
     "text": [
      "2022-06-11 16:13:49.572016: I tensorflow/stream_executor/cuda/cuda_gpu_executor.cc:937] successful NUMA node read from SysFS had negative value (-1), but there must be at least one NUMA node, so returning NUMA node zero\n",
      "2022-06-11 16:13:50.775629: I tensorflow/stream_executor/cuda/cuda_gpu_executor.cc:937] successful NUMA node read from SysFS had negative value (-1), but there must be at least one NUMA node, so returning NUMA node zero\n",
      "2022-06-11 16:13:50.776456: I tensorflow/stream_executor/cuda/cuda_gpu_executor.cc:937] successful NUMA node read from SysFS had negative value (-1), but there must be at least one NUMA node, so returning NUMA node zero\n",
      "2022-06-11 16:13:50.901020: I tensorflow/core/platform/cpu_feature_guard.cc:142] This TensorFlow binary is optimized with oneAPI Deep Neural Network Library (oneDNN) to use the following CPU instructions in performance-critical operations:  AVX2 FMA\n",
      "To enable them in other operations, rebuild TensorFlow with the appropriate compiler flags.\n",
      "2022-06-11 16:13:50.943530: I tensorflow/stream_executor/cuda/cuda_gpu_executor.cc:937] successful NUMA node read from SysFS had negative value (-1), but there must be at least one NUMA node, so returning NUMA node zero\n",
      "2022-06-11 16:13:50.944446: I tensorflow/stream_executor/cuda/cuda_gpu_executor.cc:937] successful NUMA node read from SysFS had negative value (-1), but there must be at least one NUMA node, so returning NUMA node zero\n",
      "2022-06-11 16:13:50.945133: I tensorflow/stream_executor/cuda/cuda_gpu_executor.cc:937] successful NUMA node read from SysFS had negative value (-1), but there must be at least one NUMA node, so returning NUMA node zero\n",
      "2022-06-11 16:14:08.249388: I tensorflow/stream_executor/cuda/cuda_gpu_executor.cc:937] successful NUMA node read from SysFS had negative value (-1), but there must be at least one NUMA node, so returning NUMA node zero\n",
      "2022-06-11 16:14:08.250193: I tensorflow/stream_executor/cuda/cuda_gpu_executor.cc:937] successful NUMA node read from SysFS had negative value (-1), but there must be at least one NUMA node, so returning NUMA node zero\n",
      "2022-06-11 16:14:08.250915: I tensorflow/stream_executor/cuda/cuda_gpu_executor.cc:937] successful NUMA node read from SysFS had negative value (-1), but there must be at least one NUMA node, so returning NUMA node zero\n",
      "2022-06-11 16:14:08.281267: I tensorflow/core/common_runtime/gpu/gpu_device.cc:1510] Created device /job:localhost/replica:0/task:0/device:GPU:0 with 12627 MB memory:  -> device: 0, name: Tesla T4, pci bus id: 0000:00:04.0, compute capability: 7.5\n"
     ]
    }
   ],
   "source": [
    "from transformers import BertTokenizer, TFBertModel"
   ]
  },
  {
   "cell_type": "code",
   "execution_count": 3,
   "id": "a037888c",
   "metadata": {},
   "outputs": [
    {
     "data": {
      "application/vnd.jupyter.widget-view+json": {
       "model_id": "d0af1ee2872a4ff7abc69e52854ecc14",
       "version_major": 2,
       "version_minor": 0
      },
      "text/plain": [
       "Downloading:   0%|          | 0.00/226k [00:00<?, ?B/s]"
      ]
     },
     "metadata": {},
     "output_type": "display_data"
    },
    {
     "data": {
      "application/vnd.jupyter.widget-view+json": {
       "model_id": "96a758e06ce94c6a81ef59285625d1f0",
       "version_major": 2,
       "version_minor": 0
      },
      "text/plain": [
       "Downloading:   0%|          | 0.00/28.0 [00:00<?, ?B/s]"
      ]
     },
     "metadata": {},
     "output_type": "display_data"
    },
    {
     "data": {
      "application/vnd.jupyter.widget-view+json": {
       "model_id": "b80ae6e6054c4a9c8db90031a262312b",
       "version_major": 2,
       "version_minor": 0
      },
      "text/plain": [
       "Downloading:   0%|          | 0.00/570 [00:00<?, ?B/s]"
      ]
     },
     "metadata": {},
     "output_type": "display_data"
    },
    {
     "data": {
      "application/vnd.jupyter.widget-view+json": {
       "model_id": "e924d213ff2743948ad9b086d79a1381",
       "version_major": 2,
       "version_minor": 0
      },
      "text/plain": [
       "Downloading:   0%|          | 0.00/511M [00:00<?, ?B/s]"
      ]
     },
     "metadata": {},
     "output_type": "display_data"
    },
    {
     "name": "stderr",
     "output_type": "stream",
     "text": [
      "Some layers from the model checkpoint at bert-base-uncased were not used when initializing TFBertModel: ['mlm___cls', 'nsp___cls']\n",
      "- This IS expected if you are initializing TFBertModel from the checkpoint of a model trained on another task or with another architecture (e.g. initializing a BertForSequenceClassification model from a BertForPreTraining model).\n",
      "- This IS NOT expected if you are initializing TFBertModel from the checkpoint of a model that you expect to be exactly identical (initializing a BertForSequenceClassification model from a BertForSequenceClassification model).\n",
      "All the layers of TFBertModel were initialized from the model checkpoint at bert-base-uncased.\n",
      "If your task is similar to the task the model of the checkpoint was trained on, you can already use TFBertModel for predictions without further training.\n"
     ]
    }
   ],
   "source": [
    "tokenizer = \\\n",
    "BertTokenizer.from_pretrained('bert-base-uncased')\n",
    "model = TFBertModel.from_pretrained(\"bert-base-uncased\")\n",
    "text = \" Using Transformer is easy!\"\n",
    "encoded_input = tokenizer(text, return_tensors='tf')\n",
    "output = model(**encoded_input)"
   ]
  },
  {
   "cell_type": "code",
   "execution_count": 4,
   "id": "cba5faaf",
   "metadata": {},
   "outputs": [
    {
     "data": {
      "text/plain": [
       "{'input_ids': <tf.Tensor: shape=(1, 8), dtype=int32, numpy=\n",
       "array([[  101,  2478, 10938,  2121,  2003,  3733,   999,   102]],\n",
       "      dtype=int32)>, 'token_type_ids': <tf.Tensor: shape=(1, 8), dtype=int32, numpy=array([[0, 0, 0, 0, 0, 0, 0, 0]], dtype=int32)>, 'attention_mask': <tf.Tensor: shape=(1, 8), dtype=int32, numpy=array([[1, 1, 1, 1, 1, 1, 1, 1]], dtype=int32)>}"
      ]
     },
     "execution_count": 4,
     "metadata": {},
     "output_type": "execute_result"
    }
   ],
   "source": [
    "encoded_input"
   ]
  },
  {
   "cell_type": "code",
   "execution_count": 5,
   "id": "c9bc3a91",
   "metadata": {},
   "outputs": [
    {
     "data": {
      "text/plain": [
       "TFBaseModelOutputWithPoolingAndCrossAttentions(last_hidden_state=<tf.Tensor: shape=(1, 8, 768), dtype=float32, numpy=\n",
       "array([[[-0.0410351 , -0.0157834 ,  0.13917677, ...,  0.01308074,\n",
       "          0.01839885,  0.6484122 ],\n",
       "        [ 0.07050832,  0.0774917 , -0.20425485, ..., -0.342303  ,\n",
       "         -0.10985885,  0.40914068],\n",
       "        [ 1.0418062 , -1.6513973 ,  0.52763295, ..., -0.16322373,\n",
       "         -0.0480437 , -0.0302023 ],\n",
       "        ...,\n",
       "        [-0.43320072, -0.00667169,  0.35906556, ..., -0.01232672,\n",
       "         -0.07734067,  0.12592377],\n",
       "        [-0.74116826, -0.56479895,  0.24673225, ...,  0.6808964 ,\n",
       "         -0.10752475,  0.04537725],\n",
       "        [ 0.8235321 ,  0.01582554, -0.2295271 , ...,  0.35540077,\n",
       "         -0.6569041 , -0.12369178]]], dtype=float32)>, pooler_output=<tf.Tensor: shape=(1, 768), dtype=float32, numpy=\n",
       "array([[-8.54225576e-01, -2.84541577e-01, -5.64709544e-01,\n",
       "         6.10211492e-01,  2.47506842e-01, -5.69328703e-02,\n",
       "         8.20931554e-01,  1.58449084e-01, -3.73708278e-01,\n",
       "        -9.99917507e-01, -2.81733811e-01,  4.30967033e-01,\n",
       "         9.74852026e-01,  2.46780559e-01,  9.21944320e-01,\n",
       "        -5.35453975e-01, -8.14958513e-02, -5.58276057e-01,\n",
       "         2.21957669e-01, -5.28980255e-01,  6.22530043e-01,\n",
       "         9.99516904e-01,  3.53681296e-01,  2.79932380e-01,\n",
       "         3.02928448e-01,  7.68333912e-01, -6.50764883e-01,\n",
       "         9.11616504e-01,  9.44508374e-01,  6.88099742e-01,\n",
       "        -6.58967316e-01,  1.20563768e-01, -9.80277240e-01,\n",
       "        -1.75839037e-01, -6.51520014e-01, -9.80852962e-01,\n",
       "         3.58394951e-01, -7.24686444e-01,  5.42257912e-02,\n",
       "         7.91583676e-03, -8.98216009e-01,  1.32041276e-01,\n",
       "         9.99509692e-01, -5.10326564e-01,  3.12199980e-01,\n",
       "        -3.08350176e-01, -9.99993026e-01,  1.10119000e-01,\n",
       "        -8.57186496e-01,  4.58450049e-01,  5.31849444e-01,\n",
       "         9.80414599e-02,  1.66061893e-01,  4.01868284e-01,\n",
       "         4.32753742e-01,  4.67304587e-02, -2.10879758e-01,\n",
       "         3.95974033e-02, -2.18933806e-01, -4.66536045e-01,\n",
       "        -6.26550138e-01,  2.29825646e-01, -5.29775441e-01,\n",
       "        -8.60407233e-01,  5.12225866e-01,  4.36861724e-01,\n",
       "         2.61753649e-02, -2.87421882e-01, -2.37058699e-02,\n",
       "        -5.40479319e-03,  8.32812130e-01,  2.01075673e-01,\n",
       "        -1.58886295e-02, -8.37543666e-01,  1.52915254e-01,\n",
       "         2.26293966e-01, -4.85958397e-01,  1.00000000e+00,\n",
       "        -2.69193560e-01, -9.62675273e-01,  4.75154698e-01,\n",
       "         4.11942452e-01,  3.96730572e-01,  1.10094391e-01,\n",
       "         3.09778720e-01, -1.00000000e+00,  3.79604459e-01,\n",
       "        -5.50780632e-02, -9.82803762e-01,  2.03198284e-01,\n",
       "         4.06157702e-01, -1.65833667e-01,  5.49080670e-01,\n",
       "         4.90611911e-01, -5.35274029e-01, -3.09927046e-01,\n",
       "        -1.94618344e-01, -6.03081584e-01, -1.40744820e-01,\n",
       "        -2.21603796e-01, -4.92810123e-02, -1.71282783e-01,\n",
       "        -1.37952700e-01, -3.50605547e-01,  2.08658278e-01,\n",
       "        -3.25401932e-01, -4.55263495e-01,  4.21136439e-01,\n",
       "        -8.00469220e-02,  6.52911305e-01,  3.29819709e-01,\n",
       "        -2.90419161e-01,  3.29789430e-01, -9.39131260e-01,\n",
       "         5.27452052e-01, -2.27238894e-01, -9.80696857e-01,\n",
       "        -4.45919245e-01, -9.80731845e-01,  6.11471176e-01,\n",
       "        -2.17655197e-01, -1.81805879e-01,  9.39810276e-01,\n",
       "         8.30648690e-02,  2.83803999e-01,  7.55795762e-02,\n",
       "        -1.84304476e-01, -1.00000000e+00, -3.05136770e-01,\n",
       "        -5.15686631e-01,  1.24191441e-01, -1.75684303e-01,\n",
       "        -9.62371886e-01, -9.35883343e-01,  5.23095608e-01,\n",
       "         9.49119270e-01,  2.01451302e-01,  9.99146879e-01,\n",
       "        -1.03064202e-01,  9.20198083e-01, -2.35120971e-02,\n",
       "        -2.16531873e-01,  4.20816354e-02, -3.61343801e-01,\n",
       "         6.95644259e-01,  1.80363655e-02, -5.95921159e-01,\n",
       "         1.98242992e-01,  8.01893603e-03, -2.34104902e-01,\n",
       "        -4.85724181e-01, -1.02437265e-01, -4.35146064e-01,\n",
       "        -9.27943170e-01, -2.97997028e-01,  9.21144605e-01,\n",
       "        -8.15484021e-03, -5.15185058e-01,  2.97196001e-01,\n",
       "        -5.98592944e-02, -4.03571039e-01,  8.50927174e-01,\n",
       "         6.15013540e-01,  3.04999799e-01, -1.09118119e-01,\n",
       "         2.25674734e-01,  1.43243343e-01,  4.84390527e-01,\n",
       "        -8.02893341e-01,  3.60483944e-01,  2.89054722e-01,\n",
       "        -2.56237149e-01, -5.31402409e-01, -9.66891885e-01,\n",
       "        -2.72506505e-01,  4.56160873e-01,  9.83405173e-01,\n",
       "         7.27166593e-01,  2.53045470e-01,  3.92828494e-01,\n",
       "        -1.54955164e-01,  2.26077721e-01, -9.35381830e-01,\n",
       "         9.68424141e-01, -1.16302036e-01,  1.38186112e-01,\n",
       "        -4.02346164e-01,  2.88351268e-01, -8.67844343e-01,\n",
       "        -2.98119579e-02,  8.00329030e-01, -2.25005135e-01,\n",
       "        -7.61563957e-01,  8.93746838e-02, -4.13759768e-01,\n",
       "        -3.57433170e-01, -4.33983743e-01,  3.33726883e-01,\n",
       "        -2.26453051e-01, -3.31143409e-01, -4.49839719e-02,\n",
       "         9.14733708e-01,  9.57910776e-01,  7.64216423e-01,\n",
       "        -1.80432811e-01,  5.43824315e-01, -8.67494702e-01,\n",
       "        -4.94970590e-01, -4.25411463e-02,  2.29061797e-01,\n",
       "         4.99381423e-02,  9.90101755e-01, -6.15850031e-01,\n",
       "        -5.84016293e-02, -8.92906547e-01, -9.79220271e-01,\n",
       "        -6.48419783e-02, -8.46515417e-01, -5.59167936e-03,\n",
       "        -7.20287859e-01,  4.20216262e-01,  1.72326282e-01,\n",
       "         1.00823194e-01,  2.45418072e-01, -9.54353571e-01,\n",
       "        -7.25527287e-01,  2.97988921e-01, -3.30251545e-01,\n",
       "         4.27195609e-01, -2.46071413e-01,  5.79870701e-01,\n",
       "         5.74769318e-01, -5.54552078e-01,  6.37536228e-01,\n",
       "         9.17813957e-01, -4.79819208e-01, -7.31728673e-01,\n",
       "         7.80737996e-01, -2.20977306e-01,  8.23241115e-01,\n",
       "        -5.19345582e-01,  9.78361428e-01,  5.06756246e-01,\n",
       "         5.49206495e-01, -8.89245152e-01, -4.01152939e-01,\n",
       "        -8.60065937e-01, -2.12315217e-01,  2.14626547e-02,\n",
       "        -7.06782490e-02,  5.59068382e-01,  5.22178531e-01,\n",
       "         2.62849599e-01,  3.99756968e-01, -3.91657352e-01,\n",
       "         9.87585604e-01, -7.10573733e-01, -9.26448643e-01,\n",
       "        -3.71803552e-01, -7.38840848e-02, -9.84566987e-01,\n",
       "         5.74230313e-01,  2.67967641e-01,  5.39729409e-02,\n",
       "        -3.84093910e-01, -5.76031923e-01, -9.45045412e-01,\n",
       "         8.17767739e-01,  2.56555378e-02,  9.72014785e-01,\n",
       "        -1.14134952e-01, -8.58142555e-01, -3.66065711e-01,\n",
       "        -9.10951257e-01, -1.65940031e-01, -1.03622064e-01,\n",
       "         9.11563709e-02, -1.29659295e-01, -9.43945229e-01,\n",
       "         4.20472085e-01,  4.98670369e-01,  3.63948822e-01,\n",
       "        -3.75907987e-01,  9.94195759e-01,  9.99993861e-01,\n",
       "         9.59984839e-01,  8.60421240e-01,  8.11017215e-01,\n",
       "        -9.97158885e-01, -3.93996567e-01,  9.99960899e-01,\n",
       "        -8.61584902e-01, -9.99999821e-01, -8.99188817e-01,\n",
       "        -4.30421889e-01,  4.01180595e-01, -1.00000000e+00,\n",
       "        -7.10299611e-02,  6.40248507e-02, -8.98883760e-01,\n",
       "         3.35111558e-01,  9.70687151e-01,  9.69707429e-01,\n",
       "        -1.00000000e+00,  7.81542242e-01,  9.00851429e-01,\n",
       "        -5.82310557e-01,  6.83434784e-01, -3.11829805e-01,\n",
       "         9.49092805e-01,  6.01981819e-01,  4.11136836e-01,\n",
       "        -1.71107948e-01,  3.52012902e-01, -7.69690096e-01,\n",
       "        -8.16918850e-01, -1.98501274e-01, -3.47275019e-01,\n",
       "         9.76814806e-01,  5.27235083e-02, -7.17423499e-01,\n",
       "        -8.89928997e-01,  2.50413030e-01, -1.67417496e-01,\n",
       "        -2.29529381e-01, -9.51223254e-01, -1.16461471e-01,\n",
       "        -7.73700848e-02,  6.43370688e-01,  7.54000321e-02,\n",
       "         2.19877914e-01, -6.33257508e-01,  1.90032274e-01,\n",
       "        -1.22176401e-01,  4.05372322e-01,  5.50646424e-01,\n",
       "        -9.13646400e-01, -5.94682336e-01, -6.25706017e-02,\n",
       "        -2.97756106e-01, -3.50333363e-01, -9.51008201e-01,\n",
       "         9.57170904e-01, -2.36016005e-01,  7.65088350e-02,\n",
       "         1.00000000e+00,  2.81420380e-01, -8.04367363e-01,\n",
       "         3.98014277e-01,  1.91320479e-01, -3.58560443e-01,\n",
       "         1.00000000e+00,  6.30396008e-01, -9.70483303e-01,\n",
       "        -4.08532739e-01,  4.07448202e-01, -3.95330161e-01,\n",
       "        -4.29701984e-01,  9.97679532e-01, -1.96303368e-01,\n",
       "        -3.00744176e-01,  6.15209453e-02,  9.66613352e-01,\n",
       "        -9.82186675e-01,  9.62805331e-01, -8.41570556e-01,\n",
       "        -9.44440067e-01,  9.46608305e-01,  9.27745938e-01,\n",
       "        -4.83252704e-01, -6.40819788e-01, -4.84308712e-02,\n",
       "        -5.51348984e-01,  2.44387299e-01, -9.26800251e-01,\n",
       "         4.02535647e-01,  4.16338146e-01, -8.22499916e-02,\n",
       "         8.52663755e-01, -7.29282916e-01, -4.44618434e-01,\n",
       "         2.75695533e-01, -2.59425879e-01,  2.47328788e-01,\n",
       "         6.10866487e-01,  3.97466630e-01, -2.23160148e-01,\n",
       "        -4.98464741e-02, -2.20006570e-01, -4.22933698e-01,\n",
       "        -9.45968866e-01,  1.62388414e-01,  1.00000000e+00,\n",
       "         4.57744673e-02,  4.66948390e-01, -2.41760239e-01,\n",
       "        -5.11984490e-02, -2.53992260e-01,  4.85665292e-01,\n",
       "         4.90571588e-01, -7.22156763e-02, -8.61474276e-01,\n",
       "         4.21042144e-01, -9.01573241e-01, -9.79488313e-01,\n",
       "         7.00876355e-01,  1.34739533e-01, -2.76205093e-01,\n",
       "         9.99793649e-01,  3.82135570e-01,  1.34464934e-01,\n",
       "         5.10444827e-02,  8.08360338e-01,  5.38246706e-02,\n",
       "         4.77410823e-01,  5.70820570e-01,  9.68881965e-01,\n",
       "        -1.92860678e-01,  4.60519880e-01,  7.76892483e-01,\n",
       "        -5.21294355e-01, -2.36294270e-01, -5.20909309e-01,\n",
       "         5.21446429e-02, -9.27156866e-01,  1.70625195e-01,\n",
       "        -9.30955350e-01,  9.48064566e-01,  3.80869120e-01,\n",
       "         3.86389285e-01,  2.04596162e-01,  3.81493181e-01,\n",
       "         1.00000000e+00, -7.07512617e-01,  5.82112372e-01,\n",
       "        -1.32837728e-01,  7.49357760e-01, -9.96968329e-01,\n",
       "        -7.20585108e-01, -2.95449257e-01, -4.83437255e-02,\n",
       "        -4.22511667e-01, -2.73270398e-01,  1.99217841e-01,\n",
       "        -9.61635232e-01,  3.92562002e-01,  7.72586539e-02,\n",
       "        -9.69299674e-01, -9.81705487e-01,  1.77306890e-01,\n",
       "         7.58383095e-01, -7.10151419e-02, -8.90642345e-01,\n",
       "        -5.11608839e-01, -5.44952810e-01,  1.58554748e-01,\n",
       "        -1.21067934e-01, -9.04689550e-01,  2.51673043e-01,\n",
       "        -1.77122250e-01,  3.53974253e-01, -1.39982373e-01,\n",
       "         4.98279750e-01,  4.49501127e-01,  7.01545119e-01,\n",
       "        -4.21730459e-01,  3.60373594e-02,  2.94526550e-03,\n",
       "        -7.60482013e-01,  7.55638421e-01, -7.52013564e-01,\n",
       "        -5.11087656e-01, -1.39904797e-01,  1.00000000e+00,\n",
       "        -2.73759156e-01,  6.56825602e-01,  7.28706002e-01,\n",
       "         5.75342476e-01, -1.49597839e-01,  1.14154987e-01,\n",
       "         7.44244695e-01,  1.63431615e-01, -4.58790332e-01,\n",
       "        -3.10233086e-01, -5.15810072e-01, -3.57936472e-01,\n",
       "         5.33712387e-01,  3.55463296e-01,  3.83190215e-01,\n",
       "         7.34233439e-01,  5.61362624e-01,  5.96780144e-02,\n",
       "        -1.53642683e-03, -1.12900421e-01,  9.95991588e-01,\n",
       "         7.43993651e-03, -8.10581520e-02, -3.77120733e-01,\n",
       "        -3.25087905e-02, -1.69634268e-01, -2.67410964e-01,\n",
       "         1.00000000e+00,  2.53911763e-01,  4.13669974e-01,\n",
       "        -9.81700182e-01, -3.25245619e-01, -8.66653144e-01,\n",
       "         9.99974847e-01,  8.08250904e-01, -7.57066190e-01,\n",
       "         4.67960030e-01,  4.30776536e-01, -7.38642961e-02,\n",
       "         6.64056778e-01, -2.47911252e-02, -2.86434919e-01,\n",
       "         1.56135336e-01,  1.25497654e-01,  9.37306404e-01,\n",
       "        -5.07084846e-01, -9.60017741e-01, -6.31265819e-01,\n",
       "         2.69382924e-01, -9.48081136e-01,  9.97874856e-01,\n",
       "        -4.56801295e-01, -1.81092814e-01, -3.24242413e-01,\n",
       "         3.73894453e-01,  2.57398427e-01, -9.38422531e-02,\n",
       "        -9.73113060e-01, -8.57357532e-02,  4.31683809e-02,\n",
       "         9.26816523e-01,  1.80840313e-01, -4.29120898e-01,\n",
       "        -8.90761435e-01,  2.43983924e-01,  3.09871465e-01,\n",
       "        -4.73921299e-01, -9.24469411e-01,  9.54346120e-01,\n",
       "        -9.69600022e-01,  4.78571087e-01,  9.99999285e-01,\n",
       "         4.21241403e-01, -3.60187709e-01,  9.73535329e-03,\n",
       "        -4.24928039e-01,  2.91108996e-01, -4.09675688e-01,\n",
       "         5.53983212e-01, -9.43674147e-01, -2.82954961e-01,\n",
       "        -1.31095365e-01,  2.21801192e-01, -1.28584519e-01,\n",
       "         1.71988551e-02,  6.78195238e-01,  1.90020949e-01,\n",
       "        -3.98862451e-01, -4.70589072e-01,  1.53155133e-01,\n",
       "         3.46901327e-01,  7.46165931e-01, -1.83377713e-01,\n",
       "        -5.28400652e-02,  1.89193990e-02, -8.23295861e-02,\n",
       "        -8.85864913e-01, -2.22570732e-01, -1.62802741e-01,\n",
       "        -9.99692917e-01,  6.71110094e-01, -1.00000000e+00,\n",
       "        -9.17765051e-02, -1.93277940e-01, -1.59990355e-01,\n",
       "         8.05729389e-01,  3.06621850e-01,  3.92038047e-01,\n",
       "        -7.26979673e-01, -4.27398145e-01,  6.39857411e-01,\n",
       "         6.95989072e-01, -1.39249757e-01,  3.11052471e-01,\n",
       "        -6.22020543e-01,  1.81140631e-01, -2.68742684e-02,\n",
       "         1.80705562e-01, -8.42333511e-02,  7.80451536e-01,\n",
       "        -1.50790006e-01,  1.00000000e+00,  1.47547945e-01,\n",
       "        -4.74728882e-01, -9.37277496e-01,  2.23749459e-01,\n",
       "        -1.49881110e-01,  9.99998510e-01, -8.34332407e-01,\n",
       "        -9.33179677e-01,  2.53655404e-01, -5.55287361e-01,\n",
       "        -7.85709977e-01,  1.78608596e-01, -9.10954401e-02,\n",
       "        -6.42947018e-01, -6.82312787e-01,  9.26929355e-01,\n",
       "         8.46548557e-01, -4.77908224e-01,  4.31567967e-01,\n",
       "        -2.52390802e-01, -3.72433364e-01, -1.01166412e-01,\n",
       "         5.33759773e-01,  9.79837537e-01,  5.45688868e-01,\n",
       "         8.63862932e-01,  4.60691422e-01, -2.24273741e-01,\n",
       "         9.66411710e-01,  6.33869991e-02,  4.60740656e-01,\n",
       "         7.71464407e-02,  1.00000000e+00,  2.51978487e-01,\n",
       "        -8.94451320e-01,  3.50734174e-01, -9.70761657e-01,\n",
       "        -1.35133252e-01, -9.34438348e-01,  1.63760886e-01,\n",
       "         1.74235061e-01,  8.80918920e-01, -1.90011904e-01,\n",
       "         9.38752115e-01, -2.33631507e-01, -8.35504308e-02,\n",
       "        -2.04736874e-01,  1.07226990e-01,  2.07867682e-01,\n",
       "        -9.11419392e-01, -9.77759600e-01, -9.81442750e-01,\n",
       "         4.00199890e-01, -3.40248972e-01, -2.16406211e-03,\n",
       "         1.41658321e-01, -3.55555229e-02,  2.62439638e-01,\n",
       "         3.37951273e-01, -1.00000000e+00,  9.13279474e-01,\n",
       "         3.08518499e-01,  6.10965550e-01,  9.30397809e-01,\n",
       "         4.89655435e-01,  4.44454163e-01,  2.29202718e-01,\n",
       "        -9.76809382e-01, -9.49778855e-01, -3.34139347e-01,\n",
       "        -1.30557805e-01,  7.54126787e-01,  5.27050912e-01,\n",
       "         8.59605074e-01,  2.15804785e-01, -5.01406133e-01,\n",
       "        -2.89685041e-01, -2.23475084e-01, -5.55592299e-01,\n",
       "        -9.87335026e-01,  3.41824532e-01, -7.80039653e-02,\n",
       "        -9.09687757e-01,  9.53963280e-01, -7.93013126e-02,\n",
       "        -1.50497064e-01,  2.31648386e-01, -5.12829602e-01,\n",
       "         9.14458871e-01,  7.46657252e-01,  3.20474088e-01,\n",
       "         1.33378550e-01,  4.08168614e-01,  8.51090312e-01,\n",
       "         9.34603751e-01,  9.72681761e-01, -5.10910094e-01,\n",
       "         7.51736641e-01, -1.33711742e-02,  4.34088141e-01,\n",
       "         7.88743556e-01, -9.34140563e-01,  4.00601700e-02,\n",
       "         2.47974753e-01, -2.42660895e-01,  2.00150728e-01,\n",
       "        -1.66456029e-01, -9.10214782e-01,  7.65116096e-01,\n",
       "        -9.54184458e-02,  4.95932788e-01, -3.12527657e-01,\n",
       "         1.69449270e-01, -3.76813680e-01, -9.64161828e-02,\n",
       "        -7.38573551e-01, -3.53105992e-01,  5.16331136e-01,\n",
       "         2.19540045e-01,  8.90274286e-01,  7.01116204e-01,\n",
       "         4.34691465e-04, -4.53644663e-01, -8.23886916e-02,\n",
       "        -4.16668266e-01, -9.25737560e-01,  8.67263675e-01,\n",
       "        -5.76799326e-02, -6.13309555e-02,  5.15072048e-01,\n",
       "        -8.23633373e-02,  8.89471054e-01,  3.48923355e-02,\n",
       "        -2.98124284e-01, -2.53632665e-01, -7.30035186e-01,\n",
       "         7.86974430e-01, -1.05281085e-01, -4.78009284e-01,\n",
       "        -5.27659774e-01,  6.03189230e-01,  2.74434924e-01,\n",
       "         9.99619246e-01, -4.75623429e-01, -5.39704263e-01,\n",
       "        -3.31602246e-01, -3.19628417e-01,  2.37255841e-01,\n",
       "        -3.81040394e-01, -1.00000000e+00,  2.99587429e-01,\n",
       "        -1.61999002e-01,  4.82085884e-01, -3.21704865e-01,\n",
       "         5.07139921e-01, -1.35827839e-01, -9.72639441e-01,\n",
       "        -2.85567522e-01,  4.99408633e-01,  4.41213012e-01,\n",
       "        -5.19722402e-01, -3.19606334e-01,  4.25270677e-01,\n",
       "         3.57688040e-01,  7.60660410e-01,  7.85899341e-01,\n",
       "         1.06947176e-01,  2.32384905e-01,  5.32771766e-01,\n",
       "        -5.84069788e-01, -6.25372231e-01,  8.78817499e-01]], dtype=float32)>, past_key_values=None, hidden_states=None, attentions=None, cross_attentions=None)"
      ]
     },
     "execution_count": 5,
     "metadata": {},
     "output_type": "execute_result"
    }
   ],
   "source": [
    "output"
   ]
  },
  {
   "cell_type": "code",
   "execution_count": 6,
   "id": "9b056f53",
   "metadata": {},
   "outputs": [],
   "source": [
    "from transformers import pipeline"
   ]
  },
  {
   "cell_type": "code",
   "execution_count": 7,
   "id": "b364136d",
   "metadata": {},
   "outputs": [
    {
     "data": {
      "application/vnd.jupyter.widget-view+json": {
       "model_id": "aafeafce90c441d4aca3e3d486d956ca",
       "version_major": 2,
       "version_minor": 0
      },
      "text/plain": [
       "Downloading:   0%|          | 0.00/420M [00:00<?, ?B/s]"
      ]
     },
     "metadata": {},
     "output_type": "display_data"
    },
    {
     "name": "stderr",
     "output_type": "stream",
     "text": [
      "Some weights of the model checkpoint at bert-base-uncased were not used when initializing BertForMaskedLM: ['cls.seq_relationship.bias', 'cls.seq_relationship.weight']\n",
      "- This IS expected if you are initializing BertForMaskedLM from the checkpoint of a model trained on another task or with another architecture (e.g. initializing a BertForSequenceClassification model from a BertForPreTraining model).\n",
      "- This IS NOT expected if you are initializing BertForMaskedLM from the checkpoint of a model that you expect to be exactly identical (initializing a BertForSequenceClassification model from a BertForSequenceClassification model).\n"
     ]
    },
    {
     "data": {
      "application/vnd.jupyter.widget-view+json": {
       "model_id": "ace42df0a78b4595b7a09a6f4220cc95",
       "version_major": 2,
       "version_minor": 0
      },
      "text/plain": [
       "Downloading:   0%|          | 0.00/455k [00:00<?, ?B/s]"
      ]
     },
     "metadata": {},
     "output_type": "display_data"
    }
   ],
   "source": [
    "unmasker = pipeline('fill-mask', model='bert-base-uncased')"
   ]
  },
  {
   "cell_type": "code",
   "execution_count": 8,
   "id": "2db00f64",
   "metadata": {},
   "outputs": [
    {
     "data": {
      "text/plain": [
       "[{'score': 0.0974755585193634,\n",
       "  'token': 10533,\n",
       "  'token_str': 'carpenter',\n",
       "  'sequence': 'the man worked as a carpenter.'},\n",
       " {'score': 0.05238321051001549,\n",
       "  'token': 15610,\n",
       "  'token_str': 'waiter',\n",
       "  'sequence': 'the man worked as a waiter.'},\n",
       " {'score': 0.04962703585624695,\n",
       "  'token': 13362,\n",
       "  'token_str': 'barber',\n",
       "  'sequence': 'the man worked as a barber.'},\n",
       " {'score': 0.03788604959845543,\n",
       "  'token': 15893,\n",
       "  'token_str': 'mechanic',\n",
       "  'sequence': 'the man worked as a mechanic.'},\n",
       " {'score': 0.037680838257074356,\n",
       "  'token': 18968,\n",
       "  'token_str': 'salesman',\n",
       "  'sequence': 'the man worked as a salesman.'}]"
      ]
     },
     "execution_count": 8,
     "metadata": {},
     "output_type": "execute_result"
    }
   ],
   "source": [
    "unmasker(\"The man worked as a [MASK].\")"
   ]
  },
  {
   "cell_type": "code",
   "execution_count": 10,
   "id": "8cd745bb",
   "metadata": {},
   "outputs": [],
   "source": [
    "import pandas as pd"
   ]
  },
  {
   "cell_type": "code",
   "execution_count": 11,
   "id": "0dcc1204",
   "metadata": {},
   "outputs": [
    {
     "data": {
      "text/html": [
       "<div>\n",
       "<style scoped>\n",
       "    .dataframe tbody tr th:only-of-type {\n",
       "        vertical-align: middle;\n",
       "    }\n",
       "\n",
       "    .dataframe tbody tr th {\n",
       "        vertical-align: top;\n",
       "    }\n",
       "\n",
       "    .dataframe thead th {\n",
       "        text-align: right;\n",
       "    }\n",
       "</style>\n",
       "<table border=\"1\" class=\"dataframe\">\n",
       "  <thead>\n",
       "    <tr style=\"text-align: right;\">\n",
       "      <th></th>\n",
       "      <th>score</th>\n",
       "      <th>token</th>\n",
       "      <th>token_str</th>\n",
       "      <th>sequence</th>\n",
       "    </tr>\n",
       "  </thead>\n",
       "  <tbody>\n",
       "    <tr>\n",
       "      <th>0</th>\n",
       "      <td>0.097476</td>\n",
       "      <td>10533</td>\n",
       "      <td>carpenter</td>\n",
       "      <td>the man worked as a carpenter.</td>\n",
       "    </tr>\n",
       "    <tr>\n",
       "      <th>1</th>\n",
       "      <td>0.052383</td>\n",
       "      <td>15610</td>\n",
       "      <td>waiter</td>\n",
       "      <td>the man worked as a waiter.</td>\n",
       "    </tr>\n",
       "    <tr>\n",
       "      <th>2</th>\n",
       "      <td>0.049627</td>\n",
       "      <td>13362</td>\n",
       "      <td>barber</td>\n",
       "      <td>the man worked as a barber.</td>\n",
       "    </tr>\n",
       "    <tr>\n",
       "      <th>3</th>\n",
       "      <td>0.037886</td>\n",
       "      <td>15893</td>\n",
       "      <td>mechanic</td>\n",
       "      <td>the man worked as a mechanic.</td>\n",
       "    </tr>\n",
       "    <tr>\n",
       "      <th>4</th>\n",
       "      <td>0.037681</td>\n",
       "      <td>18968</td>\n",
       "      <td>salesman</td>\n",
       "      <td>the man worked as a salesman.</td>\n",
       "    </tr>\n",
       "  </tbody>\n",
       "</table>\n",
       "</div>"
      ],
      "text/plain": [
       "      score  token  token_str                        sequence\n",
       "0  0.097476  10533  carpenter  the man worked as a carpenter.\n",
       "1  0.052383  15610     waiter     the man worked as a waiter.\n",
       "2  0.049627  13362     barber     the man worked as a barber.\n",
       "3  0.037886  15893   mechanic   the man worked as a mechanic.\n",
       "4  0.037681  18968   salesman   the man worked as a salesman."
      ]
     },
     "execution_count": 11,
     "metadata": {},
     "output_type": "execute_result"
    }
   ],
   "source": [
    "pd.DataFrame(unmasker(\"The man worked as a [MASK].\"))"
   ]
  },
  {
   "cell_type": "code",
   "execution_count": 12,
   "id": "63c03959",
   "metadata": {},
   "outputs": [
    {
     "data": {
      "application/vnd.jupyter.widget-view+json": {
       "model_id": "b6bfe2a52b6842abaeea9fc082163d56",
       "version_major": 2,
       "version_minor": 0
      },
      "text/plain": [
       "Downloading:   0%|          | 0.00/1.13k [00:00<?, ?B/s]"
      ]
     },
     "metadata": {},
     "output_type": "display_data"
    },
    {
     "data": {
      "application/vnd.jupyter.widget-view+json": {
       "model_id": "2bd6985aa1264e8eae9edb393ba00ebc",
       "version_major": 2,
       "version_minor": 0
      },
      "text/plain": [
       "Downloading:   0%|          | 0.00/1.52G [00:00<?, ?B/s]"
      ]
     },
     "metadata": {},
     "output_type": "display_data"
    },
    {
     "data": {
      "application/vnd.jupyter.widget-view+json": {
       "model_id": "73fa24822d4943449901c672901a5d12",
       "version_major": 2,
       "version_minor": 0
      },
      "text/plain": [
       "Downloading:   0%|          | 0.00/26.0 [00:00<?, ?B/s]"
      ]
     },
     "metadata": {},
     "output_type": "display_data"
    },
    {
     "data": {
      "application/vnd.jupyter.widget-view+json": {
       "model_id": "93b369d6609e459e832e4f497fb7fed8",
       "version_major": 2,
       "version_minor": 0
      },
      "text/plain": [
       "Downloading:   0%|          | 0.00/878k [00:00<?, ?B/s]"
      ]
     },
     "metadata": {},
     "output_type": "display_data"
    },
    {
     "data": {
      "application/vnd.jupyter.widget-view+json": {
       "model_id": "9d156231ae1a47cc9c32d35ca13a9dc1",
       "version_major": 2,
       "version_minor": 0
      },
      "text/plain": [
       "Downloading:   0%|          | 0.00/446k [00:00<?, ?B/s]"
      ]
     },
     "metadata": {},
     "output_type": "display_data"
    },
    {
     "data": {
      "application/vnd.jupyter.widget-view+json": {
       "model_id": "b766dbd170c54a78aaa4331f0aaae32a",
       "version_major": 2,
       "version_minor": 0
      },
      "text/plain": [
       "Downloading:   0%|          | 0.00/1.29M [00:00<?, ?B/s]"
      ]
     },
     "metadata": {},
     "output_type": "display_data"
    }
   ],
   "source": [
    "classifier = pipeline(\"zero-shot-classification\", model=\"facebook/bart-large-mnli\")"
   ]
  },
  {
   "cell_type": "code",
   "execution_count": 13,
   "id": "cbbd45f2",
   "metadata": {},
   "outputs": [],
   "source": [
    "sequence_to_classify = \"I am going to france.\""
   ]
  },
  {
   "cell_type": "code",
   "execution_count": 14,
   "id": "3b0873ef",
   "metadata": {},
   "outputs": [],
   "source": [
    "candidate_labels = ['travel', 'cooking', 'dancing']"
   ]
  },
  {
   "cell_type": "code",
   "execution_count": 15,
   "id": "fbe5d59d",
   "metadata": {},
   "outputs": [
    {
     "data": {
      "text/plain": [
       "{'sequence': 'I am going to france.',\n",
       " 'labels': ['travel', 'dancing', 'cooking'],\n",
       " 'scores': [0.9866883754730225, 0.007197572849690914, 0.006114063318818808]}"
      ]
     },
     "execution_count": 15,
     "metadata": {},
     "output_type": "execute_result"
    }
   ],
   "source": [
    "classifier(sequence_to_classify, candidate_labels)"
   ]
  },
  {
   "cell_type": "code",
   "execution_count": 16,
   "id": "3a84e14e",
   "metadata": {},
   "outputs": [
    {
     "name": "stdout",
     "output_type": "stream",
     "text": [
      "huggingface/tokenizers: The current process just got forked, after parallelism has already been used. Disabling parallelism to avoid deadlocks...\n",
      "To disable this warning, you can either:\n",
      "\t- Avoid using `tokenizers` before the fork if possible\n",
      "\t- Explicitly set the environment variable TOKENIZERS_PARALLELISM=(true | false)\n",
      "Collecting datasets\n",
      "  Downloading datasets-2.2.2-py3-none-any.whl (346 kB)\n",
      "\u001b[K     |████████████████████████████████| 346 kB 25.3 MB/s eta 0:00:01\n",
      "\u001b[?25hCollecting dill<0.3.5\n",
      "  Downloading dill-0.3.4-py2.py3-none-any.whl (86 kB)\n",
      "\u001b[K     |████████████████████████████████| 86 kB 8.3 MB/s  eta 0:00:01\n",
      "\u001b[?25hRequirement already satisfied: pandas in /opt/conda/lib/python3.8/site-packages (from datasets) (1.1.5)\n",
      "Collecting pyarrow>=6.0.0\n",
      "  Downloading pyarrow-8.0.0-cp38-cp38-manylinux_2_17_x86_64.manylinux2014_x86_64.whl (29.4 MB)\n",
      "\u001b[K     |████████████████████████████████| 29.4 MB 30.6 MB/s eta 0:00:01\n",
      "\u001b[?25hCollecting xxhash\n",
      "  Downloading xxhash-3.0.0-cp38-cp38-manylinux_2_17_x86_64.manylinux2014_x86_64.whl (212 kB)\n",
      "\u001b[K     |████████████████████████████████| 212 kB 59.3 MB/s eta 0:00:01\n",
      "\u001b[?25hCollecting multiprocess\n",
      "  Downloading multiprocess-0.70.13-py38-none-any.whl (131 kB)\n",
      "\u001b[K     |████████████████████████████████| 131 kB 66.0 MB/s eta 0:00:01\n",
      "\u001b[?25hRequirement already satisfied: huggingface-hub<1.0.0,>=0.1.0 in /opt/conda/lib/python3.8/site-packages (from datasets) (0.7.0)\n",
      "Requirement already satisfied: packaging in /opt/conda/lib/python3.8/site-packages (from datasets) (21.0)\n",
      "Requirement already satisfied: requests>=2.19.0 in /opt/conda/lib/python3.8/site-packages (from datasets) (2.26.0)\n",
      "Collecting aiohttp\n",
      "  Downloading aiohttp-3.8.1-cp38-cp38-manylinux_2_5_x86_64.manylinux1_x86_64.manylinux_2_12_x86_64.manylinux2010_x86_64.whl (1.3 MB)\n",
      "\u001b[K     |████████████████████████████████| 1.3 MB 51.3 MB/s eta 0:00:01\n",
      "\u001b[?25hCollecting responses<0.19\n",
      "  Downloading responses-0.18.0-py3-none-any.whl (38 kB)\n",
      "Requirement already satisfied: numpy>=1.17 in /opt/conda/lib/python3.8/site-packages (from datasets) (1.19.5)\n",
      "Collecting fsspec[http]>=2021.05.0\n",
      "  Downloading fsspec-2022.5.0-py3-none-any.whl (140 kB)\n",
      "\u001b[K     |████████████████████████████████| 140 kB 71.3 MB/s eta 0:00:01\n",
      "\u001b[?25hRequirement already satisfied: tqdm>=4.62.1 in /opt/conda/lib/python3.8/site-packages (from datasets) (4.62.3)\n",
      "Requirement already satisfied: typing-extensions>=3.7.4.3 in /opt/conda/lib/python3.8/site-packages (from huggingface-hub<1.0.0,>=0.1.0->datasets) (3.7.4.3)\n",
      "Requirement already satisfied: pyyaml>=5.1 in /opt/conda/lib/python3.8/site-packages (from huggingface-hub<1.0.0,>=0.1.0->datasets) (5.4.1)\n",
      "Requirement already satisfied: filelock in /opt/conda/lib/python3.8/site-packages (from huggingface-hub<1.0.0,>=0.1.0->datasets) (0.0.0)\n",
      "Requirement already satisfied: pyparsing>=2.0.2 in /opt/conda/lib/python3.8/site-packages (from packaging->datasets) (2.4.7)\n",
      "Requirement already satisfied: certifi>=2017.4.17 in /opt/conda/lib/python3.8/site-packages (from requests>=2.19.0->datasets) (2021.5.30)\n",
      "Requirement already satisfied: charset-normalizer~=2.0.0 in /opt/conda/lib/python3.8/site-packages (from requests>=2.19.0->datasets) (2.0.0)\n",
      "Requirement already satisfied: urllib3<1.27,>=1.21.1 in /opt/conda/lib/python3.8/site-packages (from requests>=2.19.0->datasets) (1.26.7)\n",
      "Requirement already satisfied: idna<4,>=2.5 in /opt/conda/lib/python3.8/site-packages (from requests>=2.19.0->datasets) (3.1)\n",
      "Collecting frozenlist>=1.1.1\n",
      "  Downloading frozenlist-1.3.0-cp38-cp38-manylinux_2_5_x86_64.manylinux1_x86_64.manylinux_2_17_x86_64.manylinux2014_x86_64.whl (158 kB)\n",
      "\u001b[K     |████████████████████████████████| 158 kB 62.6 MB/s eta 0:00:01\n",
      "\u001b[?25hCollecting async-timeout<5.0,>=4.0.0a3\n",
      "  Downloading async_timeout-4.0.2-py3-none-any.whl (5.8 kB)\n",
      "Requirement already satisfied: attrs>=17.3.0 in /opt/conda/lib/python3.8/site-packages (from aiohttp->datasets) (21.2.0)\n",
      "Collecting multidict<7.0,>=4.5\n",
      "  Downloading multidict-6.0.2-cp38-cp38-manylinux_2_17_x86_64.manylinux2014_x86_64.whl (121 kB)\n",
      "\u001b[K     |████████████████████████████████| 121 kB 54.6 MB/s eta 0:00:01\n",
      "\u001b[?25hCollecting yarl<2.0,>=1.0\n",
      "  Downloading yarl-1.7.2-cp38-cp38-manylinux_2_5_x86_64.manylinux1_x86_64.manylinux_2_12_x86_64.manylinux2010_x86_64.whl (308 kB)\n",
      "\u001b[K     |████████████████████████████████| 308 kB 59.3 MB/s eta 0:00:01\n",
      "\u001b[?25hCollecting aiosignal>=1.1.2\n",
      "  Downloading aiosignal-1.2.0-py3-none-any.whl (8.2 kB)\n",
      "Collecting multiprocess\n",
      "  Downloading multiprocess-0.70.12.2-py38-none-any.whl (128 kB)\n",
      "\u001b[K     |████████████████████████████████| 128 kB 60.9 MB/s eta 0:00:01\n",
      "\u001b[?25hRequirement already satisfied: pytz>=2017.2 in /opt/conda/lib/python3.8/site-packages (from pandas->datasets) (2021.1)\n",
      "Requirement already satisfied: python-dateutil>=2.7.3 in /opt/conda/lib/python3.8/site-packages (from pandas->datasets) (2.8.2)\n",
      "Requirement already satisfied: six>=1.5 in /opt/conda/lib/python3.8/site-packages (from python-dateutil>=2.7.3->pandas->datasets) (1.15.0)\n",
      "Installing collected packages: multidict, frozenlist, yarl, async-timeout, aiosignal, fsspec, dill, aiohttp, xxhash, responses, pyarrow, multiprocess, datasets\n",
      "Successfully installed aiohttp-3.8.1 aiosignal-1.2.0 async-timeout-4.0.2 datasets-2.2.2 dill-0.3.4 frozenlist-1.3.0 fsspec-2022.5.0 multidict-6.0.2 multiprocess-0.70.12.2 pyarrow-8.0.0 responses-0.18.0 xxhash-3.0.0 yarl-1.7.2\n",
      "\u001b[33mWARNING: Running pip as the 'root' user can result in broken permissions and conflicting behaviour with the system package manager. It is recommended to use a virtual environment instead: https://pip.pypa.io/warnings/venv\u001b[0m\n"
     ]
    }
   ],
   "source": [
    "!pip install datasets"
   ]
  },
  {
   "cell_type": "code",
   "execution_count": 17,
   "id": "4e3da8b8",
   "metadata": {},
   "outputs": [
    {
     "data": {
      "application/vnd.jupyter.widget-view+json": {
       "model_id": "5513db7b2207469e8269b7d53691e65b",
       "version_major": 2,
       "version_minor": 0
      },
      "text/plain": [
       "Downloading builder script:   0%|          | 0.00/7.78k [00:00<?, ?B/s]"
      ]
     },
     "metadata": {},
     "output_type": "display_data"
    },
    {
     "data": {
      "application/vnd.jupyter.widget-view+json": {
       "model_id": "775c33ec82c449e4ac115a429897d6d6",
       "version_major": 2,
       "version_minor": 0
      },
      "text/plain": [
       "Downloading metadata:   0%|          | 0.00/4.47k [00:00<?, ?B/s]"
      ]
     },
     "metadata": {},
     "output_type": "display_data"
    },
    {
     "name": "stdout",
     "output_type": "stream",
     "text": [
      "Downloading and preparing dataset glue/cola (download: 368.14 KiB, generated: 596.73 KiB, post-processed: Unknown size, total: 964.86 KiB) to /root/.cache/huggingface/datasets/glue/cola/1.0.0/dacbe3125aa31d7f70367a07a8a9e72a5a0bfeb5fc42e75c9db75b96da6053ad...\n"
     ]
    },
    {
     "data": {
      "application/vnd.jupyter.widget-view+json": {
       "model_id": "459cd5fd302b4e35a7cb53174e311c95",
       "version_major": 2,
       "version_minor": 0
      },
      "text/plain": [
       "Downloading data:   0%|          | 0.00/377k [00:00<?, ?B/s]"
      ]
     },
     "metadata": {},
     "output_type": "display_data"
    },
    {
     "data": {
      "application/vnd.jupyter.widget-view+json": {
       "model_id": "",
       "version_major": 2,
       "version_minor": 0
      },
      "text/plain": [
       "Generating train split:   0%|          | 0/8551 [00:00<?, ? examples/s]"
      ]
     },
     "metadata": {},
     "output_type": "display_data"
    },
    {
     "data": {
      "application/vnd.jupyter.widget-view+json": {
       "model_id": "",
       "version_major": 2,
       "version_minor": 0
      },
      "text/plain": [
       "Generating validation split:   0%|          | 0/1043 [00:00<?, ? examples/s]"
      ]
     },
     "metadata": {},
     "output_type": "display_data"
    },
    {
     "data": {
      "application/vnd.jupyter.widget-view+json": {
       "model_id": "",
       "version_major": 2,
       "version_minor": 0
      },
      "text/plain": [
       "Generating test split:   0%|          | 0/1063 [00:00<?, ? examples/s]"
      ]
     },
     "metadata": {},
     "output_type": "display_data"
    },
    {
     "name": "stdout",
     "output_type": "stream",
     "text": [
      "Dataset glue downloaded and prepared to /root/.cache/huggingface/datasets/glue/cola/1.0.0/dacbe3125aa31d7f70367a07a8a9e72a5a0bfeb5fc42e75c9db75b96da6053ad. Subsequent calls will reuse this data.\n"
     ]
    },
    {
     "data": {
      "application/vnd.jupyter.widget-view+json": {
       "model_id": "5f942b01f4314df7be5cd2fcb2dceaf6",
       "version_major": 2,
       "version_minor": 0
      },
      "text/plain": [
       "  0%|          | 0/3 [00:00<?, ?it/s]"
      ]
     },
     "metadata": {},
     "output_type": "display_data"
    },
    {
     "data": {
      "text/plain": [
       "{'sentence': ['Harry coughed himself.',\n",
       "  'Harry coughed us into a fit.',\n",
       "  'Bill followed the road into the forest.'],\n",
       " 'label': [0, 0, 1],\n",
       " 'idx': [25, 26, 27]}"
      ]
     },
     "execution_count": 17,
     "metadata": {},
     "output_type": "execute_result"
    }
   ],
   "source": [
    "from datasets import load_dataset\n",
    "cola = load_dataset('glue', 'cola')\n",
    "cola['train'][25:28]"
   ]
  },
  {
   "cell_type": "code",
   "execution_count": 18,
   "id": "613235ea",
   "metadata": {},
   "outputs": [
    {
     "name": "stdout",
     "output_type": "stream",
     "text": [
      "5537 datasets and 49 metrics exist in the hub\n",
      "\n",
      "['acronym_identification', 'ade_corpus_v2', 'adversarial_qa', 'aeslc',\n",
      " 'afrikaans_ner_corpus', 'ag_news', 'ai2_arc', 'air_dialogue',\n",
      " 'ajgt_twitter_ar', 'allegro_reviews', 'allocine', 'alt', 'amazon_polarity',\n",
      " 'amazon_reviews_multi', 'amazon_us_reviews', 'ambig_qa', 'americas_nli', 'ami',\n",
      " 'amttl', 'anli']\n",
      "['accuracy', 'bertscore', 'bleu', 'bleurt', 'cer', 'chrf', 'code_eval', 'comet',\n",
      " 'competition_math', 'coval', 'cuad', 'exact_match', 'f1', 'frugalscore',\n",
      " 'glue', 'google_bleu', 'indic_glue', 'mae', 'mahalanobis',\n",
      " 'matthews_correlation', 'mauve', 'mean_iou', 'meteor', 'mse', 'pearsonr',\n",
      " 'perplexity', 'precision', 'recall', 'rl_reliability', 'roc_auc', 'rouge',\n",
      " 'sacrebleu', 'sari', 'seqeval', 'spearmanr', 'squad', 'squad_v2', 'super_glue',\n",
      " 'ter', 'trec_eval', 'wer', 'wiki_split', 'xnli', 'xtreme_s',\n",
      " 'angelina-wang/directional_bias_amplification', 'jordyvl/ece', 'lvwerra/amex',\n",
      " 'lvwerra/bary_score', 'lvwerra/test']\n"
     ]
    }
   ],
   "source": [
    "from pprint import pprint\n",
    "from datasets import list_datasets, list_metrics\n",
    "all_d = list_datasets()\n",
    "metrics = list_metrics()\n",
    "print(f\"{len(all_d)} datasets and {len(metrics)} metrics exist in the hub\\n\")\n",
    "pprint(all_d[:20], compact=True)\n",
    "pprint(metrics, compact=True)"
   ]
  },
  {
   "cell_type": "code",
   "execution_count": 19,
   "id": "c4e190ad",
   "metadata": {},
   "outputs": [
    {
     "data": {
      "text/plain": [
       "DatasetDict({\n",
       "    train: Dataset({\n",
       "        features: ['sentence', 'label', 'idx'],\n",
       "        num_rows: 8551\n",
       "    })\n",
       "    validation: Dataset({\n",
       "        features: ['sentence', 'label', 'idx'],\n",
       "        num_rows: 1043\n",
       "    })\n",
       "    test: Dataset({\n",
       "        features: ['sentence', 'label', 'idx'],\n",
       "        num_rows: 1063\n",
       "    })\n",
       "})"
      ]
     },
     "execution_count": 19,
     "metadata": {},
     "output_type": "execute_result"
    }
   ],
   "source": [
    "cola"
   ]
  },
  {
   "cell_type": "code",
   "execution_count": 20,
   "id": "06752577",
   "metadata": {},
   "outputs": [
    {
     "data": {
      "text/plain": [
       "{'sentence': 'Bill rolled out of the room.', 'label': 1, 'idx': 12}"
      ]
     },
     "execution_count": 20,
     "metadata": {},
     "output_type": "execute_result"
    }
   ],
   "source": [
    "cola['train'][12]"
   ]
  },
  {
   "cell_type": "code",
   "execution_count": 21,
   "id": "2cf520d9",
   "metadata": {},
   "outputs": [
    {
     "data": {
      "text/plain": [
       "{'sentence': 'Which report that John was incompetent did he submit?',\n",
       " 'label': 0,\n",
       " 'idx': 68}"
      ]
     },
     "execution_count": 21,
     "metadata": {},
     "output_type": "execute_result"
    }
   ],
   "source": [
    "cola['validation'][68]"
   ]
  },
  {
   "cell_type": "code",
   "execution_count": 22,
   "id": "f56bff4d",
   "metadata": {},
   "outputs": [
    {
     "data": {
      "text/plain": [
       "{'sentence': 'Has John seen Mary?', 'label': -1, 'idx': 20}"
      ]
     },
     "execution_count": 22,
     "metadata": {},
     "output_type": "execute_result"
    }
   ],
   "source": [
    "cola['test'][20]"
   ]
  },
  {
   "cell_type": "code",
   "execution_count": 23,
   "id": "c8313173",
   "metadata": {},
   "outputs": [
    {
     "name": "stdout",
     "output_type": "stream",
     "text": [
      "1# GLUE, the General Language Understanding Evaluation benchmark\n",
      "(https://gluebenchmark.com/) is a collection of resources for training,\n",
      "evaluating, and analyzing natural language understanding systems.\n",
      "\n",
      "\n",
      "2# @article{warstadt2018neural,\n",
      "  title={Neural Network Acceptability Judgments},\n",
      "  author={Warstadt, Alex and Singh, Amanpreet and Bowman, Samuel R},\n",
      "  journal={arXiv preprint arXiv:1805.12471},\n",
      "  year={2018}\n",
      "}\n",
      "@inproceedings{wang2019glue,\n",
      "  title={{GLUE}: A Multi-Task Benchmark and Analysis Platform for Natural Language Understanding},\n",
      "  author={Wang, Alex and Singh, Amanpreet and Michael, Julian and Hill, Felix and Levy, Omer and Bowman, Samuel R.},\n",
      "  note={In the Proceedings of ICLR.},\n",
      "  year={2019}\n",
      "}\n",
      "\n",
      "3# https://nyu-mll.github.io/CoLA/\n"
     ]
    }
   ],
   "source": [
    "print(\"1#\",cola[\"train\"].description)\n",
    "print(\"2#\",cola[\"train\"].citation)\n",
    "print(\"3#\",cola[\"train\"].homepage)"
   ]
  },
  {
   "cell_type": "code",
   "execution_count": 24,
   "id": "f3a546af",
   "metadata": {},
   "outputs": [
    {
     "data": {
      "application/vnd.jupyter.widget-view+json": {
       "model_id": "bb1d3c955eb344a6a2e27f70fe3c7e51",
       "version_major": 2,
       "version_minor": 0
      },
      "text/plain": [
       "Downloading builder script:   0%|          | 0.00/9.09k [00:00<?, ?B/s]"
      ]
     },
     "metadata": {},
     "output_type": "display_data"
    },
    {
     "data": {
      "application/vnd.jupyter.widget-view+json": {
       "model_id": "c97fcca0d72f4561aa690122508be6a1",
       "version_major": 2,
       "version_minor": 0
      },
      "text/plain": [
       "Downloading metadata:   0%|          | 0.00/23.1k [00:00<?, ?B/s]"
      ]
     },
     "metadata": {},
     "output_type": "display_data"
    },
    {
     "name": "stdout",
     "output_type": "stream",
     "text": [
      "Downloading and preparing dataset xtreme/MLQA.en.de (download: 72.21 MiB, generated: 5.39 MiB, post-processed: Unknown size, total: 77.60 MiB) to /root/.cache/huggingface/datasets/xtreme/MLQA.en.de/1.0.0/349258adc25bb45e47de193222f95e68a44f7a7ab53c4283b3f007208a11bf7e...\n"
     ]
    },
    {
     "data": {
      "application/vnd.jupyter.widget-view+json": {
       "model_id": "5a46b3c4392942e8bb994c5c882494df",
       "version_major": 2,
       "version_minor": 0
      },
      "text/plain": [
       "Downloading data:   0%|          | 0.00/75.7M [00:00<?, ?B/s]"
      ]
     },
     "metadata": {},
     "output_type": "display_data"
    },
    {
     "data": {
      "application/vnd.jupyter.widget-view+json": {
       "model_id": "",
       "version_major": 2,
       "version_minor": 0
      },
      "text/plain": [
       "Generating test split:   0%|          | 0/4517 [00:00<?, ? examples/s]"
      ]
     },
     "metadata": {},
     "output_type": "display_data"
    },
    {
     "data": {
      "application/vnd.jupyter.widget-view+json": {
       "model_id": "",
       "version_major": 2,
       "version_minor": 0
      },
      "text/plain": [
       "Generating validation split:   0%|          | 0/512 [00:00<?, ? examples/s]"
      ]
     },
     "metadata": {},
     "output_type": "display_data"
    },
    {
     "name": "stdout",
     "output_type": "stream",
     "text": [
      "Dataset xtreme downloaded and prepared to /root/.cache/huggingface/datasets/xtreme/MLQA.en.de/1.0.0/349258adc25bb45e47de193222f95e68a44f7a7ab53c4283b3f007208a11bf7e. Subsequent calls will reuse this data.\n"
     ]
    },
    {
     "data": {
      "application/vnd.jupyter.widget-view+json": {
       "model_id": "7181f70c6f164f1b966d27a4f41837ed",
       "version_major": 2,
       "version_minor": 0
      },
      "text/plain": [
       "  0%|          | 0/2 [00:00<?, ?it/s]"
      ]
     },
     "metadata": {},
     "output_type": "display_data"
    }
   ],
   "source": [
    "en_de = load_dataset('xtreme', 'MLQA.en.de')"
   ]
  },
  {
   "cell_type": "code",
   "execution_count": 25,
   "id": "20c582a6",
   "metadata": {},
   "outputs": [
    {
     "data": {
      "text/plain": [
       "DatasetDict({\n",
       "    test: Dataset({\n",
       "        features: ['id', 'title', 'context', 'question', 'answers'],\n",
       "        num_rows: 4517\n",
       "    })\n",
       "    validation: Dataset({\n",
       "        features: ['id', 'title', 'context', 'question', 'answers'],\n",
       "        num_rows: 512\n",
       "    })\n",
       "})"
      ]
     },
     "execution_count": 25,
     "metadata": {},
     "output_type": "execute_result"
    }
   ],
   "source": [
    "en_de"
   ]
  },
  {
   "cell_type": "code",
   "execution_count": 26,
   "id": "ea246d70",
   "metadata": {},
   "outputs": [
    {
     "data": {
      "text/html": [
       "<div>\n",
       "<style scoped>\n",
       "    .dataframe tbody tr th:only-of-type {\n",
       "        vertical-align: middle;\n",
       "    }\n",
       "\n",
       "    .dataframe tbody tr th {\n",
       "        vertical-align: top;\n",
       "    }\n",
       "\n",
       "    .dataframe thead th {\n",
       "        text-align: right;\n",
       "    }\n",
       "</style>\n",
       "<table border=\"1\" class=\"dataframe\">\n",
       "  <thead>\n",
       "    <tr style=\"text-align: right;\">\n",
       "      <th></th>\n",
       "      <th>id</th>\n",
       "      <th>title</th>\n",
       "      <th>context</th>\n",
       "      <th>question</th>\n",
       "      <th>answers</th>\n",
       "    </tr>\n",
       "  </thead>\n",
       "  <tbody>\n",
       "    <tr>\n",
       "      <th>0</th>\n",
       "      <td>037e8929e7e4d2f949ffbabd10f0f860499ff7c9</td>\n",
       "      <td>Cell culture</td>\n",
       "      <td>An established or immortalized cell line has a...</td>\n",
       "      <td>Woraus besteht die Linie?</td>\n",
       "      <td>{'answer_start': [31], 'text': ['cell']}</td>\n",
       "    </tr>\n",
       "    <tr>\n",
       "      <th>1</th>\n",
       "      <td>4b36724f3cbde7c287bde512ff09194cbba7f932</td>\n",
       "      <td>Cell culture</td>\n",
       "      <td>The 19th-century English physiologist Sydney R...</td>\n",
       "      <td>Wann hat Roux etwas von seiner Medullarplatte ...</td>\n",
       "      <td>{'answer_start': [232], 'text': ['1885']}</td>\n",
       "    </tr>\n",
       "    <tr>\n",
       "      <th>2</th>\n",
       "      <td>13e58403df16d88b0e2c665953e89575704942d4</td>\n",
       "      <td>TRIPS Agreement</td>\n",
       "      <td>After the Uruguay round, the GATT became the b...</td>\n",
       "      <td>Was muss ratifiziert werden, wenn ein Land ger...</td>\n",
       "      <td>{'answer_start': [131], 'text': ['TRIPS']}</td>\n",
       "    </tr>\n",
       "    <tr>\n",
       "      <th>3</th>\n",
       "      <td>d23b5372af1de9425a4ae313c01eb80764c910d8</td>\n",
       "      <td>TRIPS Agreement</td>\n",
       "      <td>Since TRIPS came into force, it has been subje...</td>\n",
       "      <td>Welche Teile der Welt kritisierten das TRIPS a...</td>\n",
       "      <td>{'answer_start': [67], 'text': ['developing co...</td>\n",
       "    </tr>\n",
       "  </tbody>\n",
       "</table>\n",
       "</div>"
      ],
      "text/plain": [
       "                                         id            title  \\\n",
       "0  037e8929e7e4d2f949ffbabd10f0f860499ff7c9     Cell culture   \n",
       "1  4b36724f3cbde7c287bde512ff09194cbba7f932     Cell culture   \n",
       "2  13e58403df16d88b0e2c665953e89575704942d4  TRIPS Agreement   \n",
       "3  d23b5372af1de9425a4ae313c01eb80764c910d8  TRIPS Agreement   \n",
       "\n",
       "                                             context  \\\n",
       "0  An established or immortalized cell line has a...   \n",
       "1  The 19th-century English physiologist Sydney R...   \n",
       "2  After the Uruguay round, the GATT became the b...   \n",
       "3  Since TRIPS came into force, it has been subje...   \n",
       "\n",
       "                                            question  \\\n",
       "0                          Woraus besteht die Linie?   \n",
       "1  Wann hat Roux etwas von seiner Medullarplatte ...   \n",
       "2  Was muss ratifiziert werden, wenn ein Land ger...   \n",
       "3  Welche Teile der Welt kritisierten das TRIPS a...   \n",
       "\n",
       "                                             answers  \n",
       "0           {'answer_start': [31], 'text': ['cell']}  \n",
       "1          {'answer_start': [232], 'text': ['1885']}  \n",
       "2         {'answer_start': [131], 'text': ['TRIPS']}  \n",
       "3  {'answer_start': [67], 'text': ['developing co...  "
      ]
     },
     "execution_count": 26,
     "metadata": {},
     "output_type": "execute_result"
    }
   ],
   "source": [
    "pd.DataFrame(en_de['test'][0:4])"
   ]
  },
  {
   "cell_type": "code",
   "execution_count": 27,
   "id": "897ac464",
   "metadata": {},
   "outputs": [
    {
     "name": "stderr",
     "output_type": "stream",
     "text": [
      "Reusing dataset glue (/root/.cache/huggingface/datasets/glue/cola/1.0.0/dacbe3125aa31d7f70367a07a8a9e72a5a0bfeb5fc42e75c9db75b96da6053ad)\n"
     ]
    }
   ],
   "source": [
    "cola_sel = load_dataset('glue', 'cola', split = 'train[:300]+validation[-30:]')"
   ]
  },
  {
   "cell_type": "code",
   "execution_count": 29,
   "id": "ebe37dec",
   "metadata": {},
   "outputs": [
    {
     "data": {
      "text/plain": [
       "[0, 0, 0, 0, 0, 0, 0, 0, 0, 0, 0, 0, 0, 0, 0]"
      ]
     },
     "execution_count": 29,
     "metadata": {},
     "output_type": "execute_result"
    }
   ],
   "source": [
    "cola_sel.sort('label')['label'][:15]"
   ]
  },
  {
   "cell_type": "code",
   "execution_count": 30,
   "id": "90063bdb",
   "metadata": {},
   "outputs": [
    {
     "data": {
      "text/plain": [
       "{'sentence': ['Mary gets depressed if she listens to the Grateful Dead.',\n",
       "  'It was believed to be illegal by them to do that.',\n",
       "  'The bullets whistled past the house.'],\n",
       " 'label': [1, 0, 1],\n",
       " 'idx': [159, 1022, 46]}"
      ]
     },
     "execution_count": 30,
     "metadata": {},
     "output_type": "execute_result"
    }
   ],
   "source": [
    "cola_sel.shuffle(seed=42)[2:5]"
   ]
  },
  {
   "cell_type": "code",
   "execution_count": 31,
   "id": "91418b92",
   "metadata": {},
   "outputs": [
    {
     "data": {
      "text/plain": [
       "[{'filename': '/root/.cache/huggingface/datasets/glue/cola/1.0.0/dacbe3125aa31d7f70367a07a8a9e72a5a0bfeb5fc42e75c9db75b96da6053ad/glue-train.arrow'},\n",
       " {'filename': '/root/.cache/huggingface/datasets/glue/cola/1.0.0/dacbe3125aa31d7f70367a07a8a9e72a5a0bfeb5fc42e75c9db75b96da6053ad/glue-validation.arrow'}]"
      ]
     },
     "execution_count": 31,
     "metadata": {},
     "output_type": "execute_result"
    }
   ],
   "source": [
    "cola_sel.cache_files"
   ]
  },
  {
   "cell_type": "code",
   "execution_count": 33,
   "id": "8d2c7180",
   "metadata": {},
   "outputs": [
    {
     "data": {
      "application/vnd.jupyter.widget-view+json": {
       "model_id": "44d5e9fd987a4a6fac3ca49427f753dc",
       "version_major": 2,
       "version_minor": 0
      },
      "text/plain": [
       "  0%|          | 0/1 [00:00<?, ?ba/s]"
      ]
     },
     "metadata": {},
     "output_type": "display_data"
    },
    {
     "data": {
      "text/plain": [
       "[\"Our friends won't buy this analysis, let alone the next one we propose.\",\n",
       " \"One more pseudo generalization and I'm giving up.\",\n",
       " \"One more pseudo generalization or I'm giving up.\"]"
      ]
     },
     "execution_count": 33,
     "metadata": {},
     "output_type": "execute_result"
    }
   ],
   "source": [
    "cola_sel.filter(lambda s: s['label']== 1 )[\"sentence\"][:3]"
   ]
  },
  {
   "cell_type": "code",
   "execution_count": 34,
   "id": "6e488fdf",
   "metadata": {},
   "outputs": [
    {
     "data": {
      "application/vnd.jupyter.widget-view+json": {
       "model_id": "4d249b545c3545dd8151850e2415f4e2",
       "version_major": 2,
       "version_minor": 0
      },
      "text/plain": [
       "  0%|          | 0/330 [00:00<?, ?ex/s]"
      ]
     },
     "metadata": {},
     "output_type": "display_data"
    }
   ],
   "source": [
    "cola_new=cola_sel.map(lambda e:{'len': len(e['sentence'])})"
   ]
  },
  {
   "cell_type": "code",
   "execution_count": 35,
   "id": "57649777",
   "metadata": {},
   "outputs": [
    {
     "data": {
      "text/html": [
       "<div>\n",
       "<style scoped>\n",
       "    .dataframe tbody tr th:only-of-type {\n",
       "        vertical-align: middle;\n",
       "    }\n",
       "\n",
       "    .dataframe tbody tr th {\n",
       "        vertical-align: top;\n",
       "    }\n",
       "\n",
       "    .dataframe thead th {\n",
       "        text-align: right;\n",
       "    }\n",
       "</style>\n",
       "<table border=\"1\" class=\"dataframe\">\n",
       "  <thead>\n",
       "    <tr style=\"text-align: right;\">\n",
       "      <th></th>\n",
       "      <th>sentence</th>\n",
       "      <th>label</th>\n",
       "      <th>idx</th>\n",
       "      <th>len</th>\n",
       "    </tr>\n",
       "  </thead>\n",
       "  <tbody>\n",
       "    <tr>\n",
       "      <th>0</th>\n",
       "      <td>Our friends won't buy this analysis, let alone...</td>\n",
       "      <td>1</td>\n",
       "      <td>0</td>\n",
       "      <td>71</td>\n",
       "    </tr>\n",
       "    <tr>\n",
       "      <th>1</th>\n",
       "      <td>One more pseudo generalization and I'm giving up.</td>\n",
       "      <td>1</td>\n",
       "      <td>1</td>\n",
       "      <td>49</td>\n",
       "    </tr>\n",
       "    <tr>\n",
       "      <th>2</th>\n",
       "      <td>One more pseudo generalization or I'm giving up.</td>\n",
       "      <td>1</td>\n",
       "      <td>2</td>\n",
       "      <td>48</td>\n",
       "    </tr>\n",
       "  </tbody>\n",
       "</table>\n",
       "</div>"
      ],
      "text/plain": [
       "                                            sentence  label  idx  len\n",
       "0  Our friends won't buy this analysis, let alone...      1    0   71\n",
       "1  One more pseudo generalization and I'm giving up.      1    1   49\n",
       "2   One more pseudo generalization or I'm giving up.      1    2   48"
      ]
     },
     "execution_count": 35,
     "metadata": {},
     "output_type": "execute_result"
    }
   ],
   "source": [
    "pd.DataFrame(cola_new[0:3])"
   ]
  },
  {
   "cell_type": "code",
   "execution_count": 36,
   "id": "12693acf",
   "metadata": {},
   "outputs": [
    {
     "name": "stdout",
     "output_type": "stream",
     "text": [
      "The GPU total memory is 14.755615234375 GB\n"
     ]
    }
   ],
   "source": [
    "import torch\n",
    "print(f\"The GPU total memory is {torch.cuda.get_device_properties(0).total_memory /(1024**3)} GB\")"
   ]
  },
  {
   "cell_type": "code",
   "execution_count": null,
   "id": "1b11d4ee",
   "metadata": {},
   "outputs": [],
   "source": []
  }
 ],
 "metadata": {
  "kernelspec": {
   "display_name": "Python 3 (ipykernel)",
   "language": "python",
   "name": "python3"
  },
  "language_info": {
   "codemirror_mode": {
    "name": "ipython",
    "version": 3
   },
   "file_extension": ".py",
   "mimetype": "text/x-python",
   "name": "python",
   "nbconvert_exporter": "python",
   "pygments_lexer": "ipython3",
   "version": "3.8.10"
  }
 },
 "nbformat": 4,
 "nbformat_minor": 5
}
